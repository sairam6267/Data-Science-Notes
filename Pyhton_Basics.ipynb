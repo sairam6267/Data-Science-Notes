{
  "nbformat": 4,
  "nbformat_minor": 0,
  "metadata": {
    "colab": {
      "name": "Pyhton_Basics.ipynb",
      "provenance": [],
      "collapsed_sections": [
        "ex3FYd0dJsY5",
        "Z-hqIaGGVS5z",
        "-N8igZ22VfAe",
        "iQPFBhE6WH9d",
        "r5rZ_JqCWWr-"
      ],
      "authorship_tag": "ABX9TyM+4pKsIhxy3mDrSm10F76t",
      "include_colab_link": true
    },
    "kernelspec": {
      "display_name": "Python 3",
      "name": "python3"
    },
    "language_info": {
      "name": "python"
    }
  },
  "cells": [
    {
      "cell_type": "markdown",
      "metadata": {
        "id": "view-in-github",
        "colab_type": "text"
      },
      "source": [
        "<a href=\"https://colab.research.google.com/github/sairam6267/Data-Science-Notes/blob/main/Pyhton_Basics.ipynb\" target=\"_parent\"><img src=\"https://colab.research.google.com/assets/colab-badge.svg\" alt=\"Open In Colab\"/></a>"
      ]
    },
    {
      "cell_type": "markdown",
      "metadata": {
        "id": "OjHW0ibVX0Sk"
      },
      "source": [
        "# PYTHON BASICS.\n",
        "* Keywords and Identifiers\n",
        "* Data Types.\n",
        "* Python Operators\n",
        "* Data structures"
      ]
    },
    {
      "cell_type": "markdown",
      "metadata": {
        "id": "UShEuD4Tst6N"
      },
      "source": [
        "### __keywords and Identifiers__\n",
        "* __Keywords__ are reserved and predefined words which are used to write for working the program."
      ]
    },
    {
      "cell_type": "code",
      "metadata": {
        "colab": {
          "base_uri": "https://localhost:8080/",
          "height": 0
        },
        "id": "4rYm0O5tspLv",
        "outputId": "62763b2d-1fa3-42f8-829a-03be58486fbf"
      },
      "source": [
        "import keyword\n",
        "print(keyword.kwlist)"
      ],
      "execution_count": 1,
      "outputs": [
        {
          "output_type": "stream",
          "text": [
            "['False', 'None', 'True', 'and', 'as', 'assert', 'async', 'await', 'break', 'class', 'continue', 'def', 'del', 'elif', 'else', 'except', 'finally', 'for', 'from', 'global', 'if', 'import', 'in', 'is', 'lambda', 'nonlocal', 'not', 'or', 'pass', 'raise', 'return', 'try', 'while', 'with', 'yield']\n"
          ],
          "name": "stdout"
        }
      ]
    },
    {
      "cell_type": "code",
      "metadata": {
        "colab": {
          "base_uri": "https://localhost:8080/",
          "height": 0
        },
        "id": "Hd2qZXiWyIZK",
        "outputId": "1fa67225-af00-44ca-b3fa-2072cee0f14f"
      },
      "source": [
        "len(keyword.kwlist)"
      ],
      "execution_count": 2,
      "outputs": [
        {
          "output_type": "execute_result",
          "data": {
            "text/plain": [
              "35"
            ]
          },
          "metadata": {
            "tags": []
          },
          "execution_count": 2
        }
      ]
    },
    {
      "cell_type": "markdown",
      "metadata": {
        "id": "4b87iqdfy2eg"
      },
      "source": [
        "* __Identifiers__ are user-defined variables,functions,class....these are generally used to assign the expression or values to the variables.\n",
        " * Rules of identifiers.\n",
        "  1. Identifiers are case sensitive.\n",
        "  2. Identifiers can be combination of lower[a-z], upper case[A-Z],     numbers[0-9]or underscoe'-'\n",
        "  3. It sould not start with any special characters[!,#....]\n",
        "  4. It should not start with digits.\n",
        "  5. Keywords should not be identifiers"
      ]
    },
    {
      "cell_type": "code",
      "metadata": {
        "id": "1beAD-mdysks"
      },
      "source": [
        "# Identifiers are case sensitive\n",
        "variable=5"
      ],
      "execution_count": 3,
      "outputs": []
    },
    {
      "cell_type": "code",
      "metadata": {
        "id": "OwmaOSP016V9"
      },
      "source": [
        "Variable=10"
      ],
      "execution_count": 4,
      "outputs": []
    },
    {
      "cell_type": "code",
      "metadata": {
        "id": "oAEFx9Zg18ZO"
      },
      "source": [
        "# Identifiers can be combination of lower[a-z], upper case[A-Z],numbers[0-9] or underscoe'-' \n",
        "Varible=\"python\"\n",
        "VARIABLES='python'\n",
        "variable_IDENTIFIERS='python'\n",
        "varable_123='python'\n",
        "VaRIABle='pyhton'"
      ],
      "execution_count": 5,
      "outputs": []
    },
    {
      "cell_type": "code",
      "metadata": {
        "id": "zD2iRU-m2dsN"
      },
      "source": [
        "# It sould not should not contain or start with any special characters[!,#,@....]\n",
        "# @variable='python'\n"
      ],
      "execution_count": 6,
      "outputs": []
    },
    {
      "cell_type": "code",
      "metadata": {
        "id": "rV6vQOrZ3ssr"
      },
      "source": [
        "# V@raible= 'python'"
      ],
      "execution_count": 7,
      "outputs": []
    },
    {
      "cell_type": "code",
      "metadata": {
        "id": "1N2USQaS4I3c"
      },
      "source": [
        "# It should not start with digits\n",
        "# variable1= 'python'"
      ],
      "execution_count": 8,
      "outputs": []
    },
    {
      "cell_type": "code",
      "metadata": {
        "id": "G-eRqDIb4d-Q"
      },
      "source": [
        "#  Keywords should not be identifiers\n",
        "# True ='python'"
      ],
      "execution_count": 9,
      "outputs": []
    },
    {
      "cell_type": "markdown",
      "metadata": {
        "id": "zL61G1xH5u83"
      },
      "source": [
        "### __Data Types__\n",
        "* Data types says which  kind of variable type , variable can store the value of data type and that are classified into:\n",
        "1. Numeric type.\n",
        "2. String type.\n",
        "3. Boolean types."
      ]
    },
    {
      "cell_type": "markdown",
      "metadata": {
        "id": "D1iVJm4lBC2m"
      },
      "source": [
        "1.__Numeric data type__\n",
        "  * intergers (int)\n",
        "    * Integers are the numbers which represents the positive or negative whole numbers\n",
        "  * float (float)\n",
        "    * float is the real number which represents with decimal numbers\n",
        "  * complex \n",
        "    * complex numbers are real and imginary numbers."
      ]
    },
    {
      "cell_type": "markdown",
      "metadata": {
        "id": "kXh5sCRfDwPu"
      },
      "source": [
        "__Examples__"
      ]
    },
    {
      "cell_type": "code",
      "metadata": {
        "id": "KvpMVU1g4mSR",
        "colab": {
          "base_uri": "https://localhost:8080/",
          "height": 0
        },
        "outputId": "f9cd83b4-e835-42f3-ff39-fede5c8e0d7d"
      },
      "source": [
        "# Number data types\n",
        "Number_integer=5\n",
        "type(Number_integer)                "
      ],
      "execution_count": 10,
      "outputs": [
        {
          "output_type": "execute_result",
          "data": {
            "text/plain": [
              "int"
            ]
          },
          "metadata": {
            "tags": []
          },
          "execution_count": 10
        }
      ]
    },
    {
      "cell_type": "code",
      "metadata": {
        "id": "KIrVQqTlDI_M",
        "colab": {
          "base_uri": "https://localhost:8080/",
          "height": 0
        },
        "outputId": "23054c0e-dce8-469c-e708-f798ca544c7c"
      },
      "source": [
        "Number_float=5.5\n",
        "type(Number_float)"
      ],
      "execution_count": 11,
      "outputs": [
        {
          "output_type": "execute_result",
          "data": {
            "text/plain": [
              "float"
            ]
          },
          "metadata": {
            "tags": []
          },
          "execution_count": 11
        }
      ]
    },
    {
      "cell_type": "code",
      "metadata": {
        "id": "AQhcfEuEDiHG",
        "colab": {
          "base_uri": "https://localhost:8080/",
          "height": 0
        },
        "outputId": "58e792cb-aa4b-40d4-b333-24dbb35e218a"
      },
      "source": [
        "Number_complex=1+3j\n",
        "type(Number_complex)"
      ],
      "execution_count": 12,
      "outputs": [
        {
          "output_type": "execute_result",
          "data": {
            "text/plain": [
              "complex"
            ]
          },
          "metadata": {
            "tags": []
          },
          "execution_count": 12
        }
      ]
    },
    {
      "cell_type": "code",
      "metadata": {
        "id": "5TzrXAfu-for",
        "colab": {
          "base_uri": "https://localhost:8080/",
          "height": 0
        },
        "outputId": "f6a750f8-d23b-486e-9f36-9492e9254f99"
      },
      "source": [
        "number=\"5\"\n",
        "type(number)"
      ],
      "execution_count": 13,
      "outputs": [
        {
          "output_type": "execute_result",
          "data": {
            "text/plain": [
              "str"
            ]
          },
          "metadata": {
            "tags": []
          },
          "execution_count": 13
        }
      ]
    },
    {
      "cell_type": "code",
      "metadata": {
        "id": "6TwP0rHdG8Os",
        "colab": {
          "base_uri": "https://localhost:8080/",
          "height": 0
        },
        "outputId": "7f27a226-0663-41a5-b950-e052d7915f5a"
      },
      "source": [
        "int(number)"
      ],
      "execution_count": 14,
      "outputs": [
        {
          "output_type": "execute_result",
          "data": {
            "text/plain": [
              "5"
            ]
          },
          "metadata": {
            "tags": []
          },
          "execution_count": 14
        }
      ]
    },
    {
      "cell_type": "markdown",
      "metadata": {
        "id": "6lrVq4qPEBDP"
      },
      "source": [
        "2. __String Data Type__\n",
        "* string (str) is collection of one or more characters it can be represented in single or double or triple inverted quoted ' ',\" \",''' '''."
      ]
    },
    {
      "cell_type": "markdown",
      "metadata": {
        "id": "kOVPpNqyI_B0"
      },
      "source": [
        "__Example__"
      ]
    },
    {
      "cell_type": "code",
      "metadata": {
        "id": "PDzZedUFDrPc"
      },
      "source": [
        "string_single='python for Data scienc1'\n",
        "string_double=\"python for Data science2\"\n",
        "string_triple='''Python for Data science3.'''"
      ],
      "execution_count": 15,
      "outputs": []
    },
    {
      "cell_type": "code",
      "metadata": {
        "id": "dcAJX39D-32X",
        "colab": {
          "base_uri": "https://localhost:8080/",
          "height": 0
        },
        "outputId": "48356e47-ce31-4054-dd06-178821b4e3b7"
      },
      "source": [
        "print(string_double)\n",
        "type(string_triple)"
      ],
      "execution_count": 16,
      "outputs": [
        {
          "output_type": "stream",
          "text": [
            "python for Data science2\n"
          ],
          "name": "stdout"
        },
        {
          "output_type": "execute_result",
          "data": {
            "text/plain": [
              "str"
            ]
          },
          "metadata": {
            "tags": []
          },
          "execution_count": 16
        }
      ]
    },
    {
      "cell_type": "markdown",
      "metadata": {
        "id": "J_6vztJ5HEtM"
      },
      "source": [
        "__Boolean Data Types__\n",
        "* Booleans (bool) are the comparision data types .it compares the variable data types frequently used in conditional statemens.Booleans are two types that are \"True\" and \"False\""
      ]
    },
    {
      "cell_type": "code",
      "metadata": {
        "id": "iLmIHuU3GxmF",
        "colab": {
          "base_uri": "https://localhost:8080/",
          "height": 0
        },
        "outputId": "5b854533-b6a7-470d-c8e0-bf37555da87a"
      },
      "source": [
        "a=5\n",
        "b=5\n",
        "a==b"
      ],
      "execution_count": 17,
      "outputs": [
        {
          "output_type": "execute_result",
          "data": {
            "text/plain": [
              "True"
            ]
          },
          "metadata": {
            "tags": []
          },
          "execution_count": 17
        }
      ]
    },
    {
      "cell_type": "code",
      "metadata": {
        "id": "aBd_AMzdHCcS",
        "colab": {
          "base_uri": "https://localhost:8080/",
          "height": 0
        },
        "outputId": "d1816059-9280-41d0-ccbe-19ed0dd18fbf"
      },
      "source": [
        "a=10\n",
        "b=11\n",
        "type(a==b)"
      ],
      "execution_count": 18,
      "outputs": [
        {
          "output_type": "execute_result",
          "data": {
            "text/plain": [
              "bool"
            ]
          },
          "metadata": {
            "tags": []
          },
          "execution_count": 18
        }
      ]
    },
    {
      "cell_type": "markdown",
      "metadata": {
        "id": "ex3FYd0dJsY5"
      },
      "source": [
        "### Python Operators\n",
        "* Operators are used to perform operations on the variables and it whole function is to compare the operands perfroms operations on it.Operators are classified into different types.\n",
        "1. Arithmatic operators\n",
        "2. Comparision operators.\n",
        "3. Logical oprators\n",
        "4. Identity operators.\n",
        "5. Membership operators.\n",
        "6. Assignment operators"
      ]
    },
    {
      "cell_type": "markdown",
      "metadata": {
        "id": "9NwfGWh0L_1B"
      },
      "source": [
        "1. __Arithmatic operators__"
      ]
    },
    {
      "cell_type": "markdown",
      "metadata": {
        "id": "2utWWWOxMD9W"
      },
      "source": [
        "![\"\"art\"](https://www.engineeringbigdata.com/wp-content/uploads/python-arithmetic-operators.jpg)"
      ]
    },
    {
      "cell_type": "markdown",
      "metadata": {
        "id": "gjTX657jNCyY"
      },
      "source": [
        "__Examples__"
      ]
    },
    {
      "cell_type": "code",
      "metadata": {
        "colab": {
          "base_uri": "https://localhost:8080/",
          "height": 0
        },
        "id": "TNcKWGNrIFBl",
        "outputId": "af065457-41af-4647-f326-9ca3f8e3c057"
      },
      "source": [
        "# addition operation. \"+\"\n",
        "a=5\n",
        "b=10\n",
        "add=a+b\n",
        "print(add)"
      ],
      "execution_count": 19,
      "outputs": [
        {
          "output_type": "stream",
          "text": [
            "15\n"
          ],
          "name": "stdout"
        }
      ]
    },
    {
      "cell_type": "code",
      "metadata": {
        "colab": {
          "base_uri": "https://localhost:8080/",
          "height": 0
        },
        "id": "INa1SiVGNVgX",
        "outputId": "b34d5a61-be00-4801-91f0-45adf5fb4559"
      },
      "source": [
        "# subtraction operation \"-\"\n",
        "sub=a-b\n",
        "print(a-b)"
      ],
      "execution_count": 20,
      "outputs": [
        {
          "output_type": "stream",
          "text": [
            "-5\n"
          ],
          "name": "stdout"
        }
      ]
    },
    {
      "cell_type": "code",
      "metadata": {
        "colab": {
          "base_uri": "https://localhost:8080/",
          "height": 0
        },
        "id": "DJdHIOutNcf8",
        "outputId": "9144ccdb-79db-4ea5-ee9f-bae0260d80fb"
      },
      "source": [
        "# Multiplication operation \"*\"\n",
        "multipication=a*b\n",
        "print(multipication)"
      ],
      "execution_count": 21,
      "outputs": [
        {
          "output_type": "stream",
          "text": [
            "50\n"
          ],
          "name": "stdout"
        }
      ]
    },
    {
      "cell_type": "code",
      "metadata": {
        "colab": {
          "base_uri": "https://localhost:8080/",
          "height": 0
        },
        "id": "sJnXyZIaNjzQ",
        "outputId": "4acd3a04-4ce9-45f6-ed03-355446a26ffb"
      },
      "source": [
        "# Division operation \"/\"\n",
        "div=a/b\n",
        "print(div)\n"
      ],
      "execution_count": 22,
      "outputs": [
        {
          "output_type": "stream",
          "text": [
            "0.5\n"
          ],
          "name": "stdout"
        }
      ]
    },
    {
      "cell_type": "code",
      "metadata": {
        "colab": {
          "base_uri": "https://localhost:8080/",
          "height": 0
        },
        "id": "OfNRLh7gNpv-",
        "outputId": "40e82944-90d8-41cf-8c6f-ec89003e8600"
      },
      "source": [
        "# modulus operation \"%\"\n",
        "modulus=a%b\n",
        "print(modulus)\n"
      ],
      "execution_count": 23,
      "outputs": [
        {
          "output_type": "stream",
          "text": [
            "5\n"
          ],
          "name": "stdout"
        }
      ]
    },
    {
      "cell_type": "code",
      "metadata": {
        "colab": {
          "base_uri": "https://localhost:8080/",
          "height": 0
        },
        "id": "w5pcC88BNwA9",
        "outputId": "5d3cd153-7ee6-48b1-a77c-ee6178887e5a"
      },
      "source": [
        "# Floor division \"//\"\n",
        "floor=a//b\n",
        "print(floor)\n"
      ],
      "execution_count": 24,
      "outputs": [
        {
          "output_type": "stream",
          "text": [
            "0\n"
          ],
          "name": "stdout"
        }
      ]
    },
    {
      "cell_type": "code",
      "metadata": {
        "colab": {
          "base_uri": "https://localhost:8080/",
          "height": 0
        },
        "id": "UVES877gN9pX",
        "outputId": "86d10fad-6dbb-4758-a708-3f90ab9db971"
      },
      "source": [
        "# Exponential operation \"**\"\n",
        "pow=a**2+b**1\n",
        "print(pow)"
      ],
      "execution_count": 25,
      "outputs": [
        {
          "output_type": "stream",
          "text": [
            "35\n"
          ],
          "name": "stdout"
        }
      ]
    },
    {
      "cell_type": "markdown",
      "metadata": {
        "id": "6HY2Qz-wVGUv"
      },
      "source": [
        "### Comparision operators\n",
        "  * compares the variables if condition is satisfied it return True else False"
      ]
    },
    {
      "cell_type": "markdown",
      "metadata": {
        "id": "oh_lCfvTAcvK"
      },
      "source": [
        "![\"comp\"](https://icansoft.files.wordpress.com/2016/04/wp-1460931331587.gif)\n",
        "\n"
      ]
    },
    {
      "cell_type": "code",
      "metadata": {
        "id": "WKEXjyOvLwkb",
        "colab": {
          "base_uri": "https://localhost:8080/",
          "height": 0
        },
        "outputId": "400e875c-db48-4e61-aa83-aae87bd3745e"
      },
      "source": [
        "# Less then\n",
        "a=5\n",
        "b=10\n",
        "c=a<b\n",
        "print(\"a is less than b is: \",c)"
      ],
      "execution_count": 26,
      "outputs": [
        {
          "output_type": "stream",
          "text": [
            "a is less than b is:  True\n"
          ],
          "name": "stdout"
        }
      ]
    },
    {
      "cell_type": "code",
      "metadata": {
        "id": "AxI-aM4rL88I",
        "colab": {
          "base_uri": "https://localhost:8080/",
          "height": 0
        },
        "outputId": "fa1329f9-ce8b-46b2-c60a-0692465f8dfe"
      },
      "source": [
        "# less than or equal to\n",
        "c = a<=b\n",
        "print(\"a is less than or equal to b is: \",c)"
      ],
      "execution_count": 27,
      "outputs": [
        {
          "output_type": "stream",
          "text": [
            "a is less than or equal to b is:  True\n"
          ],
          "name": "stdout"
        }
      ]
    },
    {
      "cell_type": "code",
      "metadata": {
        "id": "uO0IUnkaMZrg",
        "colab": {
          "base_uri": "https://localhost:8080/",
          "height": 0
        },
        "outputId": "2fb65df7-e392-4a15-adf8-03efa0ce84ad"
      },
      "source": [
        "# greater then\n",
        "c=a>b\n",
        "print(\"a is greater than b is: \",c)"
      ],
      "execution_count": 28,
      "outputs": [
        {
          "output_type": "stream",
          "text": [
            "a is greater than b is:  False\n"
          ],
          "name": "stdout"
        }
      ]
    },
    {
      "cell_type": "code",
      "metadata": {
        "id": "IYwgCh-pMeCI",
        "colab": {
          "base_uri": "https://localhost:8080/",
          "height": 0
        },
        "outputId": "7f259e4f-7c67-4816-ae3d-19a3463dcb35"
      },
      "source": [
        "# equal to \n",
        "c=a==b\n",
        "print(\"a is qual to b is : \",c)"
      ],
      "execution_count": 29,
      "outputs": [
        {
          "output_type": "stream",
          "text": [
            "a is qual to b is :  False\n"
          ],
          "name": "stdout"
        }
      ]
    },
    {
      "cell_type": "code",
      "metadata": {
        "id": "LZ2iHlAUMeEp",
        "colab": {
          "base_uri": "https://localhost:8080/",
          "height": 0
        },
        "outputId": "6a2ec571-11b0-4690-d479-167589ca5996"
      },
      "source": [
        "# not equal to\n",
        "c=a!=b\n",
        "print(\"a not equal to b is : \",c)"
      ],
      "execution_count": 30,
      "outputs": [
        {
          "output_type": "stream",
          "text": [
            "a not equal to b is :  True\n"
          ],
          "name": "stdout"
        }
      ]
    },
    {
      "cell_type": "markdown",
      "metadata": {
        "id": "Z-hqIaGGVS5z"
      },
      "source": [
        "### Logical operators\n",
        "  * Logical operators are used to make  decisions based on conditional statements"
      ]
    },
    {
      "cell_type": "markdown",
      "metadata": {
        "id": "5Siu62I1Cf94"
      },
      "source": [
        "![\"log\"](data:image/png;base64,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)"
      ]
    },
    {
      "cell_type": "code",
      "metadata": {
        "id": "kFvmu-fKT9TI",
        "colab": {
          "base_uri": "https://localhost:8080/"
        },
        "outputId": "333044fd-7844-418c-b335-43305a43dd7e"
      },
      "source": [
        "# AND operator\n",
        "a=5\n",
        "b=5\n",
        "print((a!=b) and (a==b))"
      ],
      "execution_count": 146,
      "outputs": [
        {
          "output_type": "stream",
          "text": [
            "False\n"
          ],
          "name": "stdout"
        }
      ]
    },
    {
      "cell_type": "code",
      "metadata": {
        "id": "vdkplZdXT9hh",
        "colab": {
          "base_uri": "https://localhost:8080/"
        },
        "outputId": "838f383a-905b-42c0-8fc9-e8230c41f6d5"
      },
      "source": [
        "# OR operator\n",
        "print((a==b) or (a==b))"
      ],
      "execution_count": 147,
      "outputs": [
        {
          "output_type": "stream",
          "text": [
            "True\n"
          ],
          "name": "stdout"
        }
      ]
    },
    {
      "cell_type": "code",
      "metadata": {
        "id": "rK7P4r6LT-MY",
        "colab": {
          "base_uri": "https://localhost:8080/"
        },
        "outputId": "a9d59de3-6553-4bb0-8265-f04c37af258b"
      },
      "source": [
        "# NOT operator\n",
        "print(not (a==b))"
      ],
      "execution_count": 148,
      "outputs": [
        {
          "output_type": "stream",
          "text": [
            "False\n"
          ],
          "name": "stdout"
        }
      ]
    },
    {
      "cell_type": "markdown",
      "metadata": {
        "id": "-N8igZ22VfAe"
      },
      "source": [
        "### Assignment operators\n",
        "* These operators are used to assign the values to the variables after certain operations."
      ]
    },
    {
      "cell_type": "code",
      "metadata": {
        "id": "ofN7kluKOL2V",
        "colab": {
          "base_uri": "https://localhost:8080/"
        },
        "outputId": "1fc206bf-5ce7-4922-8fa7-274364b6544d"
      },
      "source": [
        "# Add and assign\n",
        "a=10\n",
        "b=15\n",
        "a+=b\n",
        "print(\"a=a+b: \",a)"
      ],
      "execution_count": 135,
      "outputs": [
        {
          "output_type": "stream",
          "text": [
            "a=a+b:  25\n"
          ],
          "name": "stdout"
        }
      ]
    },
    {
      "cell_type": "code",
      "metadata": {
        "id": "hFy3opmROL5Z",
        "colab": {
          "base_uri": "https://localhost:8080/"
        },
        "outputId": "c6dc8d43-0479-491c-92d3-7e30e7d3a93b"
      },
      "source": [
        "# subtract and assign\n",
        "a-=b\n",
        "print(\"a=a+b: \",a)"
      ],
      "execution_count": 136,
      "outputs": [
        {
          "output_type": "stream",
          "text": [
            "a=a+b:  10\n"
          ],
          "name": "stdout"
        }
      ]
    },
    {
      "cell_type": "code",
      "metadata": {
        "id": "qs5v7-ITOMFQ",
        "colab": {
          "base_uri": "https://localhost:8080/"
        },
        "outputId": "175f7c04-f12b-4834-ae41-0876ea9f629b"
      },
      "source": [
        "# multiply and assign\n",
        "a*=b\n",
        "print(\"a=a*b: \",a)"
      ],
      "execution_count": 137,
      "outputs": [
        {
          "output_type": "stream",
          "text": [
            "a=a*b:  150\n"
          ],
          "name": "stdout"
        }
      ]
    },
    {
      "cell_type": "code",
      "metadata": {
        "id": "k7bifTE6OMHT",
        "colab": {
          "base_uri": "https://localhost:8080/"
        },
        "outputId": "b241cc67-c53d-4b10-8027-e781f105dbd4"
      },
      "source": [
        "# divide and assign\n",
        "a/=b\n",
        "print(\"a=a/b: \",a)"
      ],
      "execution_count": 138,
      "outputs": [
        {
          "output_type": "stream",
          "text": [
            "a=a/b:  10.0\n"
          ],
          "name": "stdout"
        }
      ]
    },
    {
      "cell_type": "code",
      "metadata": {
        "id": "K9mX7FBAOMVp",
        "colab": {
          "base_uri": "https://localhost:8080/"
        },
        "outputId": "e6e1c9fd-0a91-4721-ccb0-ceeaaa474561"
      },
      "source": [
        "# modulus and assign\n",
        "a%=b\n",
        "print(\"a=a%b :\",a )"
      ],
      "execution_count": 139,
      "outputs": [
        {
          "output_type": "stream",
          "text": [
            "a=a%b : 10.0\n"
          ],
          "name": "stdout"
        }
      ]
    },
    {
      "cell_type": "code",
      "metadata": {
        "id": "R931QHYFOMYp",
        "colab": {
          "base_uri": "https://localhost:8080/"
        },
        "outputId": "b1cdd040-c13a-46db-9e4b-bdf5f3249393"
      },
      "source": [
        "# exponent and assign\n",
        "a**=b\n",
        "print(\"a=a**b: \",a)"
      ],
      "execution_count": 140,
      "outputs": [
        {
          "output_type": "stream",
          "text": [
            "a=a**b:  1000000000000000.0\n"
          ],
          "name": "stdout"
        }
      ]
    },
    {
      "cell_type": "code",
      "metadata": {
        "id": "DKB0gkBoShhO",
        "colab": {
          "base_uri": "https://localhost:8080/"
        },
        "outputId": "1bca03a0-2374-495c-d430-6d54979f0a5d"
      },
      "source": [
        "# floor divison and assign\n",
        "a=5\n",
        "b=10\n",
        "a//=b\n",
        "print(\"a=a//b: \",a)"
      ],
      "execution_count": 141,
      "outputs": [
        {
          "output_type": "stream",
          "text": [
            "a=a//b:  0\n"
          ],
          "name": "stdout"
        }
      ]
    },
    {
      "cell_type": "markdown",
      "metadata": {
        "id": "iQPFBhE6WH9d"
      },
      "source": [
        "### Identity operators\n",
        "  * Identity operators compare the variable memory locations of two objects"
      ]
    },
    {
      "cell_type": "markdown",
      "metadata": {
        "id": "tkikEqIuI2iE"
      },
      "source": [
        "![\"iden\"](https://i0.wp.com/makemeanalyst.com/wp-content/uploads/2017/06/Identity-Operators-Python.png?resize=532%2C136)"
      ]
    },
    {
      "cell_type": "code",
      "metadata": {
        "colab": {
          "base_uri": "https://localhost:8080/"
        },
        "id": "D1xxBl_tPFQB",
        "outputId": "e020d36c-0ac8-45dc-932c-e821d67f8d02"
      },
      "source": [
        "# is operator\n",
        "a=5\n",
        "b=5\n",
        "a is b"
      ],
      "execution_count": 142,
      "outputs": [
        {
          "output_type": "execute_result",
          "data": {
            "text/plain": [
              "True"
            ]
          },
          "metadata": {
            "tags": []
          },
          "execution_count": 142
        }
      ]
    },
    {
      "cell_type": "code",
      "metadata": {
        "id": "-tVFyV4SVgj6",
        "colab": {
          "base_uri": "https://localhost:8080/"
        },
        "outputId": "c2fc3af8-201d-42ee-dbe2-88e859cd486d"
      },
      "source": [
        "id(a)"
      ],
      "execution_count": 143,
      "outputs": [
        {
          "output_type": "execute_result",
          "data": {
            "text/plain": [
              "94848864668288"
            ]
          },
          "metadata": {
            "tags": []
          },
          "execution_count": 143
        }
      ]
    },
    {
      "cell_type": "code",
      "metadata": {
        "id": "q1osfuCiVkhk",
        "colab": {
          "base_uri": "https://localhost:8080/"
        },
        "outputId": "34b26ee1-0441-41fe-a660-f6b2ed63d951"
      },
      "source": [
        "id(b)"
      ],
      "execution_count": 144,
      "outputs": [
        {
          "output_type": "execute_result",
          "data": {
            "text/plain": [
              "94848864668288"
            ]
          },
          "metadata": {
            "tags": []
          },
          "execution_count": 144
        }
      ]
    },
    {
      "cell_type": "code",
      "metadata": {
        "id": "dpH5sMcUPFTy",
        "colab": {
          "base_uri": "https://localhost:8080/"
        },
        "outputId": "aeeb81ab-2803-4258-da13-1d84bf100d0f"
      },
      "source": [
        "# is not operator\n",
        "a is not b"
      ],
      "execution_count": 145,
      "outputs": [
        {
          "output_type": "execute_result",
          "data": {
            "text/plain": [
              "False"
            ]
          },
          "metadata": {
            "tags": []
          },
          "execution_count": 145
        }
      ]
    },
    {
      "cell_type": "markdown",
      "metadata": {
        "id": "r5rZ_JqCWWr-"
      },
      "source": [
        "### Membership operators\n",
        "  * It checks the variables present in the sequence of variable"
      ]
    },
    {
      "cell_type": "markdown",
      "metadata": {
        "id": "oo71WN71KVWK"
      },
      "source": [
        "![\"mem\"](https://i1.wp.com/makemeanalyst.com/wp-content/uploads/2017/06/Membership-Operator-in-python.png?resize=532%2C136)"
      ]
    },
    {
      "cell_type": "code",
      "metadata": {
        "id": "ppf1T7xMFeF3",
        "colab": {
          "base_uri": "https://localhost:8080/"
        },
        "outputId": "b4cb258f-0202-4b47-d4c6-557f4fd66b23"
      },
      "source": [
        "# in operator\n",
        "my_age=22\n",
        "childrens_age=[10,15,12,18]\n",
        "my_age in childrens_age"
      ],
      "execution_count": 130,
      "outputs": [
        {
          "output_type": "execute_result",
          "data": {
            "text/plain": [
              "False"
            ]
          },
          "metadata": {
            "tags": []
          },
          "execution_count": 130
        }
      ]
    },
    {
      "cell_type": "code",
      "metadata": {
        "id": "YpzQRdknHNjT",
        "colab": {
          "base_uri": "https://localhost:8080/"
        },
        "outputId": "20a26265-4ec0-4828-c466-7f85cc901aa7"
      },
      "source": [
        "# not in operator\n",
        "my_age not in childrens_age"
      ],
      "execution_count": 131,
      "outputs": [
        {
          "output_type": "execute_result",
          "data": {
            "text/plain": [
              "True"
            ]
          },
          "metadata": {
            "tags": []
          },
          "execution_count": 131
        }
      ]
    },
    {
      "cell_type": "markdown",
      "metadata": {
        "id": "TYsHFsSioVaG"
      },
      "source": [
        "### Data Structures\n",
        "* Data structures are the collection of the data types which can store the data in the form of structure more precisely function and operations can be perform on the data.\n",
        "  *  Lists.\n",
        "  *  Tuples.\n",
        "  *  Dictionaries"
      ]
    },
    {
      "cell_type": "markdown",
      "metadata": {
        "id": "nYbPaC6XpjgG"
      },
      "source": [
        "__Lists__\n",
        "1. Lists are another kind of data types it stores the elements or items.\n",
        "2. Lists are sequential and in order.\n",
        "3. Lists are mutable.\n",
        "4. list can be represents by square bracket. [ ]"
      ]
    },
    {
      "cell_type": "code",
      "metadata": {
        "id": "tSwK7PvhsxGW"
      },
      "source": [
        "# list can store numeric,boolean ,string data types\n",
        "list_int=[1,2,3,5,6]\n",
        "list_str=[\"python\",\"java\",\"C\"]\n",
        "list_bool=[True,False,True]"
      ],
      "execution_count": 47,
      "outputs": []
    },
    {
      "cell_type": "code",
      "metadata": {
        "colab": {
          "base_uri": "https://localhost:8080/",
          "height": 0
        },
        "id": "autVWaSvRvOV",
        "outputId": "79809083-d7df-4425-fc21-d16a7886d6e5"
      },
      "source": [
        "print(list_bool)"
      ],
      "execution_count": 48,
      "outputs": [
        {
          "output_type": "stream",
          "text": [
            "[True, False, True]\n"
          ],
          "name": "stdout"
        }
      ]
    },
    {
      "cell_type": "code",
      "metadata": {
        "id": "XuU3d3O4piCc"
      },
      "source": [
        "# Create List\n",
        "fruits=[\"banana\",\"Mango\",\"apple\",\"grapes\",\"pine_apple\"]\n"
      ],
      "execution_count": 49,
      "outputs": []
    },
    {
      "cell_type": "code",
      "metadata": {
        "colab": {
          "base_uri": "https://localhost:8080/",
          "height": 0
        },
        "id": "cww-TYIbSYzs",
        "outputId": "3a46adab-ab8b-449a-f073-9d1d9858aa20"
      },
      "source": [
        "# built in function list()\n",
        "fruit=list((\"banana\",\"Mango\",\"apple\",\"grapes\",\"pine_apple\"))\n",
        "print(fruit)"
      ],
      "execution_count": 50,
      "outputs": [
        {
          "output_type": "stream",
          "text": [
            "['banana', 'Mango', 'apple', 'grapes', 'pine_apple']\n"
          ],
          "name": "stdout"
        }
      ]
    },
    {
      "cell_type": "markdown",
      "metadata": {
        "id": "2A9m9koQuLdB"
      },
      "source": [
        "__List Methods__"
      ]
    },
    {
      "cell_type": "markdown",
      "metadata": {
        "id": "RJf8PK1Fur-d"
      },
      "source": [
        "__append()__ method is used to adding the elements to list\n"
      ]
    },
    {
      "cell_type": "code",
      "metadata": {
        "colab": {
          "base_uri": "https://localhost:8080/",
          "height": 0
        },
        "id": "Hhc3-ZHbuIho",
        "outputId": "9d41d2a5-2524-42a9-bca9-eaaf4b79b3ee"
      },
      "source": [
        "# add elements to the list.\n",
        "fruit=list((\"banana\",\"Mango\",\"apple\",\"grapes\",\"pine_apple\"))\n",
        "fruit.append(\"guva\")\n",
        "print(fruit)"
      ],
      "execution_count": 51,
      "outputs": [
        {
          "output_type": "stream",
          "text": [
            "['banana', 'Mango', 'apple', 'grapes', 'pine_apple', 'guva']\n"
          ],
          "name": "stdout"
        }
      ]
    },
    {
      "cell_type": "markdown",
      "metadata": {
        "id": "4pgoLAkAxDgm"
      },
      "source": [
        "__insert()__ method is used to insert elements at specified position."
      ]
    },
    {
      "cell_type": "code",
      "metadata": {
        "colab": {
          "base_uri": "https://localhost:8080/",
          "height": 0
        },
        "id": "p2akvAqGo_PC",
        "outputId": "e8ada981-64c8-4c0c-a71c-fa5854a951d1"
      },
      "source": [
        "# insert elements to the list.\n",
        "fruit.insert(4,\"orange\")\n",
        "print(fruit)"
      ],
      "execution_count": 52,
      "outputs": [
        {
          "output_type": "stream",
          "text": [
            "['banana', 'Mango', 'apple', 'grapes', 'orange', 'pine_apple', 'guva']\n"
          ],
          "name": "stdout"
        }
      ]
    },
    {
      "cell_type": "markdown",
      "metadata": {
        "id": "tyZc-XqN2P8S"
      },
      "source": [
        "__extend()__ method adds the iterable elements to the list"
      ]
    },
    {
      "cell_type": "code",
      "metadata": {
        "colab": {
          "base_uri": "https://localhost:8080/",
          "height": 0
        },
        "id": "R7OKaIw1yF6c",
        "outputId": "8a7d3e73-10b2-4bf7-e797-2c66d5d46050"
      },
      "source": [
        "# extends the elements\n",
        "newfruit=list((\"watermelon\",\"kivy\"))\n",
        "newfruit"
      ],
      "execution_count": 53,
      "outputs": [
        {
          "output_type": "execute_result",
          "data": {
            "text/plain": [
              "['watermelon', 'kivy']"
            ]
          },
          "metadata": {
            "tags": []
          },
          "execution_count": 53
        }
      ]
    },
    {
      "cell_type": "code",
      "metadata": {
        "colab": {
          "base_uri": "https://localhost:8080/",
          "height": 0
        },
        "id": "qW8w_MdvXcUC",
        "outputId": "d946e715-951e-4e05-faeb-c06ce003d1c8"
      },
      "source": [
        "fruit=list((\"banana\",\"Mango\",\"apple\",\"grapes\",\"pine_apple\"))\n",
        "fruit.append(newfruit)\n",
        "print(fruit)"
      ],
      "execution_count": 54,
      "outputs": [
        {
          "output_type": "stream",
          "text": [
            "['banana', 'Mango', 'apple', 'grapes', 'pine_apple', ['watermelon', 'kivy']]\n"
          ],
          "name": "stdout"
        }
      ]
    },
    {
      "cell_type": "code",
      "metadata": {
        "colab": {
          "base_uri": "https://localhost:8080/",
          "height": 0
        },
        "id": "mPLmTXjnV9rK",
        "outputId": "673c37e7-ea0e-4003-d3a1-353d5c85e5f4"
      },
      "source": [
        "fruit=list((\"banana\",\"Mango\",\"apple\",\"grapes\",\"pine_apple\"))\n",
        "fruit.extend(newfruit)\n",
        "print(fruit)"
      ],
      "execution_count": 55,
      "outputs": [
        {
          "output_type": "stream",
          "text": [
            "['banana', 'Mango', 'apple', 'grapes', 'pine_apple', 'watermelon', 'kivy']\n"
          ],
          "name": "stdout"
        }
      ]
    },
    {
      "cell_type": "markdown",
      "metadata": {
        "id": "JE0MGM--yGtz"
      },
      "source": [
        "__pop()__ method is used to remove the elements from list by specifying the position."
      ]
    },
    {
      "cell_type": "code",
      "metadata": {
        "colab": {
          "base_uri": "https://localhost:8080/",
          "height": 0
        },
        "id": "NjDWxcVR2vOk",
        "outputId": "03757971-3eac-4172-d747-62c60ae53b5e"
      },
      "source": [
        "# adds iterable elements in the list\n",
        "fruit=list((\"banana\",\"Mango\",\"apple\",\"grapes\",\"pine_apple\"))\n",
        "print(\"original_fruit:\",fruit)\n",
        "fruit.pop(0)\n",
        "print(\"Updated_fruit: \",fruit)"
      ],
      "execution_count": 56,
      "outputs": [
        {
          "output_type": "stream",
          "text": [
            "original_fruit: ['banana', 'Mango', 'apple', 'grapes', 'pine_apple']\n",
            "Updated_fruit:  ['Mango', 'apple', 'grapes', 'pine_apple']\n"
          ],
          "name": "stdout"
        }
      ]
    },
    {
      "cell_type": "markdown",
      "metadata": {
        "id": "inDYYrbF0Dvu"
      },
      "source": [
        "__count()__ method is used to count the repeatation of elements in the list"
      ]
    },
    {
      "cell_type": "code",
      "metadata": {
        "id": "rnwVptoZznZX",
        "colab": {
          "base_uri": "https://localhost:8080/",
          "height": 0
        },
        "outputId": "0771e15a-8ce3-4105-9f00-7c28027d9fcf"
      },
      "source": [
        "# count the elements\n",
        "fruit=list((\"banana\",\"Mango\",\"apple\",\"grapes\",\"pine_apple\"))\n",
        "fruit.count(\"apple\")"
      ],
      "execution_count": 57,
      "outputs": [
        {
          "output_type": "execute_result",
          "data": {
            "text/plain": [
              "1"
            ]
          },
          "metadata": {
            "tags": []
          },
          "execution_count": 57
        }
      ]
    },
    {
      "cell_type": "markdown",
      "metadata": {
        "id": "QaoSJv2b01t-"
      },
      "source": [
        "__index()__ method is used to show the position of element"
      ]
    },
    {
      "cell_type": "code",
      "metadata": {
        "id": "7a6ZMLkF00Ah",
        "colab": {
          "base_uri": "https://localhost:8080/",
          "height": 0
        },
        "outputId": "ac29e2d1-8c32-47dd-bbe9-b2bb54aedd1f"
      },
      "source": [
        "# shows the position of the element\n",
        "fruit=list((\"banana\",\"Mango\",\"apple\",\"grapes\",\"pine_apple\"))\n",
        "print(\"original_fruit:\",fruit)\n",
        "fruit.index(\"apple\")"
      ],
      "execution_count": 58,
      "outputs": [
        {
          "output_type": "stream",
          "text": [
            "original_fruit: ['banana', 'Mango', 'apple', 'grapes', 'pine_apple']\n"
          ],
          "name": "stdout"
        },
        {
          "output_type": "execute_result",
          "data": {
            "text/plain": [
              "2"
            ]
          },
          "metadata": {
            "tags": []
          },
          "execution_count": 58
        }
      ]
    },
    {
      "cell_type": "markdown",
      "metadata": {
        "id": "oqcGWY4h1ocd"
      },
      "source": [
        "__clear()__ method removes all the elements from the list"
      ]
    },
    {
      "cell_type": "code",
      "metadata": {
        "id": "0fK6j31r1iDW",
        "colab": {
          "base_uri": "https://localhost:8080/",
          "height": 0
        },
        "outputId": "34572e9c-5178-42d9-e68f-5e23d937596d"
      },
      "source": [
        "# clears the list\n",
        "fruit=list((\"banana\",\"Mango\",\"apple\",\"grapes\",\"pine_apple\"))\n",
        "fruit.clear()\n",
        "print(fruit)"
      ],
      "execution_count": 59,
      "outputs": [
        {
          "output_type": "stream",
          "text": [
            "[]\n"
          ],
          "name": "stdout"
        }
      ]
    },
    {
      "cell_type": "markdown",
      "metadata": {
        "id": "Xz49odkC2Dto"
      },
      "source": [
        "__remove()__ methods removes elements from list by specifying the element name"
      ]
    },
    {
      "cell_type": "code",
      "metadata": {
        "id": "MxBWTFTI2Cwe",
        "colab": {
          "base_uri": "https://localhost:8080/",
          "height": 0
        },
        "outputId": "43f3592f-2d86-412b-d4c3-25744f269042"
      },
      "source": [
        "# removes the element from list\n",
        "fruit=list((\"banana\",\"Mango\",\"apple\",\"grapes\",\"pine_apple\"))\n",
        "print(\"original fruit: \",fruit)\n",
        "fruit.remove('Mango')\n",
        "print(\"updated fruits; \",fruit)\n"
      ],
      "execution_count": 60,
      "outputs": [
        {
          "output_type": "stream",
          "text": [
            "original fruit:  ['banana', 'Mango', 'apple', 'grapes', 'pine_apple']\n",
            "updated fruits;  ['banana', 'apple', 'grapes', 'pine_apple']\n"
          ],
          "name": "stdout"
        }
      ]
    },
    {
      "cell_type": "markdown",
      "metadata": {
        "id": "EfFRgXmA3ki2"
      },
      "source": [
        "__reverse()__ reverse the list"
      ]
    },
    {
      "cell_type": "code",
      "metadata": {
        "id": "7UoiB8iK3U1X",
        "colab": {
          "base_uri": "https://localhost:8080/",
          "height": 0
        },
        "outputId": "aa6e0375-6964-4c1e-c398-dd8795967dfa"
      },
      "source": [
        "# reverse the list\n",
        "fruit=list((\"banana\",\"Mango\",\"apple\",\"grapes\",\"pine_apple\"))\n",
        "print(\"original fruit: \",fruit)\n",
        "fruit.reverse()\n",
        "print(\"reversed fruits:\" ,fruit)"
      ],
      "execution_count": 61,
      "outputs": [
        {
          "output_type": "stream",
          "text": [
            "original fruit:  ['banana', 'Mango', 'apple', 'grapes', 'pine_apple']\n",
            "reversed fruits: ['pine_apple', 'grapes', 'apple', 'Mango', 'banana']\n"
          ],
          "name": "stdout"
        }
      ]
    },
    {
      "cell_type": "markdown",
      "metadata": {
        "id": "BwEsZkWH3w5a"
      },
      "source": [
        "__sort()__ sort the integers elements from ascending to descending"
      ]
    },
    {
      "cell_type": "code",
      "metadata": {
        "id": "7O0mPUdQ3t21",
        "colab": {
          "base_uri": "https://localhost:8080/",
          "height": 0
        },
        "outputId": "32941f6b-e698-401a-bfb0-714b0b66c4e5"
      },
      "source": [
        "# sorts the list\n",
        "newlist1=[10,12,2,5,6,7,8]\n",
        "print(\"original list: \",newlist1)\n",
        "newlist1.sort()\n",
        "print(\"sorted list:\",newlist1)"
      ],
      "execution_count": 62,
      "outputs": [
        {
          "output_type": "stream",
          "text": [
            "original list:  [10, 12, 2, 5, 6, 7, 8]\n",
            "sorted list: [2, 5, 6, 7, 8, 10, 12]\n"
          ],
          "name": "stdout"
        }
      ]
    },
    {
      "cell_type": "markdown",
      "metadata": {
        "id": "cfevUC7Y5Xe3"
      },
      "source": [
        "### Tuples\n",
        "* Tuples are used to store the multiple elements\n",
        "* Tuples are ordered.\n",
        "* Tuples are unmutable.\n",
        "* it can be represented by round brackets ( )"
      ]
    },
    {
      "cell_type": "code",
      "metadata": {
        "id": "hWWKcNDU4T_g"
      },
      "source": [
        "tuple_int=(1,2,3)\n",
        "tuple_str=(\"milk\",\"curd\",\"ghee\")\n",
        "tuple_bool=(True,False)"
      ],
      "execution_count": 63,
      "outputs": []
    },
    {
      "cell_type": "markdown",
      "metadata": {
        "id": "MiVvtwRV-X2E"
      },
      "source": [
        "__count()__ method count the elements in tuple"
      ]
    },
    {
      "cell_type": "code",
      "metadata": {
        "id": "FahJNsb9-ksz",
        "colab": {
          "base_uri": "https://localhost:8080/",
          "height": 0
        },
        "outputId": "4b7951d6-cf05-48b0-8098-4b6e8463b8a4"
      },
      "source": [
        "# counts the elements\n",
        "tuple_numbers=(1,2,3,3,4)\n",
        "tuple_numbers.count(3)"
      ],
      "execution_count": 64,
      "outputs": [
        {
          "output_type": "execute_result",
          "data": {
            "text/plain": [
              "2"
            ]
          },
          "metadata": {
            "tags": []
          },
          "execution_count": 64
        }
      ]
    },
    {
      "cell_type": "markdown",
      "metadata": {
        "id": "fZr_pAu--i34"
      },
      "source": [
        "__index()__ method is used to know the index of elements"
      ]
    },
    {
      "cell_type": "code",
      "metadata": {
        "id": "1-OBh3OP-zPC",
        "colab": {
          "base_uri": "https://localhost:8080/",
          "height": 0
        },
        "outputId": "bb6362a5-4273-4810-ce1d-eadf9175928f"
      },
      "source": [
        "# shows the elements index\n",
        "tuple_numbers=(1,2,3,3,4)\n",
        "tuple_numbers.index(2)"
      ],
      "execution_count": 65,
      "outputs": [
        {
          "output_type": "execute_result",
          "data": {
            "text/plain": [
              "1"
            ]
          },
          "metadata": {
            "tags": []
          },
          "execution_count": 65
        }
      ]
    },
    {
      "cell_type": "code",
      "metadata": {
        "id": "aVG97H9I-Azr",
        "colab": {
          "base_uri": "https://localhost:8080/",
          "height": 0
        },
        "outputId": "65fb115f-ff40-4cb9-866a-512e770fc754"
      },
      "source": [
        "# create new tuples \n",
        "tuple1=(1,2,3)\n",
        "tuple2=(4,5)\n",
        "tuple3=tuple(tuple1+tuple2)\n",
        "print(tuple3)"
      ],
      "execution_count": 66,
      "outputs": [
        {
          "output_type": "stream",
          "text": [
            "(1, 2, 3, 4, 5)\n"
          ],
          "name": "stdout"
        }
      ]
    },
    {
      "cell_type": "markdown",
      "metadata": {
        "id": "ahmoCztb-TXi"
      },
      "source": [
        "## Type converstion\n",
        "* tuple to list\n",
        "* list to tuple"
      ]
    },
    {
      "cell_type": "code",
      "metadata": {
        "colab": {
          "base_uri": "https://localhost:8080/",
          "height": 0
        },
        "id": "Fb9Xi2W59wjn",
        "outputId": "25a029e5-d3f9-484a-ff49-63064721d4d8"
      },
      "source": [
        "# convert tuple to list\n",
        "tuple_1=(\"a\",\"e\",\"i\")\n",
        "new=list(tuple_1)\n",
        "new"
      ],
      "execution_count": 112,
      "outputs": [
        {
          "output_type": "execute_result",
          "data": {
            "text/plain": [
              "['a', 'e', 'i']"
            ]
          },
          "metadata": {
            "tags": []
          },
          "execution_count": 112
        }
      ]
    },
    {
      "cell_type": "code",
      "metadata": {
        "colab": {
          "base_uri": "https://localhost:8080/",
          "height": 0
        },
        "id": "vCwyb7Wj9_Yr",
        "outputId": "0863517d-d7d3-4e7f-df85-effc29088536"
      },
      "source": [
        "# modify\n",
        "new.append(\"k\")\n",
        "new"
      ],
      "execution_count": 115,
      "outputs": [
        {
          "output_type": "execute_result",
          "data": {
            "text/plain": [
              "['a', 'e', 'i', 'k', 'k']"
            ]
          },
          "metadata": {
            "tags": []
          },
          "execution_count": 115
        }
      ]
    },
    {
      "cell_type": "code",
      "metadata": {
        "colab": {
          "base_uri": "https://localhost:8080/",
          "height": 0
        },
        "id": "NdMzgh1L-HjS",
        "outputId": "e68abc95-6dd4-4e3b-de06-dd222ef6b29e"
      },
      "source": [
        "# Convert list to tuple\n",
        "tuple(new)"
      ],
      "execution_count": 114,
      "outputs": [
        {
          "output_type": "execute_result",
          "data": {
            "text/plain": [
              "('a', 'e', 'i', 'k')"
            ]
          },
          "metadata": {
            "tags": []
          },
          "execution_count": 114
        }
      ]
    },
    {
      "cell_type": "markdown",
      "metadata": {
        "id": "H0oChicoWR2L"
      },
      "source": [
        "### Dictionaries."
      ]
    },
    {
      "cell_type": "markdown",
      "metadata": {
        "id": "v2HIXlRnaMhx"
      },
      "source": [
        "* Dictionaries  are used to store the data typesin the form of pair(keys:values)\n",
        "* Dictionaries are in order.\n",
        "* Dictionaries are mutable.\n",
        "* It can be representedd by flower brackets {}\n",
        "* It can can store numeric,string ,bool data types.\n",
        "\n"
      ]
    },
    {
      "cell_type": "code",
      "metadata": {
        "colab": {
          "base_uri": "https://localhost:8080/",
          "height": 0
        },
        "id": "C5yBF_AganAj",
        "outputId": "b3491998-9bdf-485f-e210-8013449bb28a"
      },
      "source": [
        "# Create dictionaries buitin function\n",
        "animals=dict(domestic=[\"Dog\",\"cow\",\"cat\"],wild=[\"lion\",\"tiger\",\"wolf\"])\n",
        "print(animals)"
      ],
      "execution_count": 70,
      "outputs": [
        {
          "output_type": "stream",
          "text": [
            "{'domestic': ['Dog', 'cow', 'cat'], 'wild': ['lion', 'tiger', 'wolf']}\n"
          ],
          "name": "stdout"
        }
      ]
    },
    {
      "cell_type": "code",
      "metadata": {
        "colab": {
          "base_uri": "https://localhost:8080/",
          "height": 0
        },
        "id": "2njI71VSa43C",
        "outputId": "8b332552-b6df-44da-a3e7-56d62bfea9a0"
      },
      "source": [
        "# create dictionaries through manually\n",
        "animals={\"domestic\":[\"Dog\",\"cow\",\"cat\"],\"wild\":[\"lion\",\"tiger\",\"wolf\"]}\n",
        "print(animals)"
      ],
      "execution_count": 101,
      "outputs": [
        {
          "output_type": "stream",
          "text": [
            "{'domestic': ['Dog', 'cow', 'cat'], 'wild': ['lion', 'tiger', 'wolf']}\n"
          ],
          "name": "stdout"
        }
      ]
    },
    {
      "cell_type": "markdown",
      "metadata": {
        "id": "QaNEHGQsizTX"
      },
      "source": [
        "__Dictionary Methods__"
      ]
    },
    {
      "cell_type": "markdown",
      "metadata": {
        "id": "CfLCOJs9i-xn"
      },
      "source": [
        "__copy()__ It copies the values of dictionary "
      ]
    },
    {
      "cell_type": "code",
      "metadata": {
        "colab": {
          "base_uri": "https://localhost:8080/",
          "height": 0
        },
        "id": "C0cjVHV6lDta",
        "outputId": "984c8861-5126-409a-cb64-5c600a769b8a"
      },
      "source": [
        "new_animals=animals.copy()\n",
        "print(new_animals)"
      ],
      "execution_count": 73,
      "outputs": [
        {
          "output_type": "stream",
          "text": [
            "{'domestic': ['Dog', 'cow', 'cat'], 'wild': ['lion', 'tiger', 'wolf']}\n"
          ],
          "name": "stdout"
        }
      ]
    },
    {
      "cell_type": "markdown",
      "metadata": {
        "id": "MotJ_y_BjUHO"
      },
      "source": [
        "__items()__ It retuens the pair if values."
      ]
    },
    {
      "cell_type": "code",
      "metadata": {
        "colab": {
          "base_uri": "https://localhost:8080/",
          "height": 0
        },
        "id": "iTbhDuMAlUgg",
        "outputId": "77ae2234-3191-4440-cbb8-4bf89480479f"
      },
      "source": [
        "new_animals.items()"
      ],
      "execution_count": 74,
      "outputs": [
        {
          "output_type": "execute_result",
          "data": {
            "text/plain": [
              "dict_items([('domestic', ['Dog', 'cow', 'cat']), ('wild', ['lion', 'tiger', 'wolf'])])"
            ]
          },
          "metadata": {
            "tags": []
          },
          "execution_count": 74
        }
      ]
    },
    {
      "cell_type": "markdown",
      "metadata": {
        "id": "xKUF2ndIjrvU"
      },
      "source": [
        "__keys()__ It returns only the object/variable from dictionaries."
      ]
    },
    {
      "cell_type": "code",
      "metadata": {
        "colab": {
          "base_uri": "https://localhost:8080/",
          "height": 0
        },
        "id": "rWHG2CphmMEB",
        "outputId": "0fe93231-58ff-4776-8e16-4e4e75674261"
      },
      "source": [
        "new_animals.keys()"
      ],
      "execution_count": 76,
      "outputs": [
        {
          "output_type": "execute_result",
          "data": {
            "text/plain": [
              "dict_keys(['domestic', 'wild'])"
            ]
          },
          "metadata": {
            "tags": []
          },
          "execution_count": 76
        }
      ]
    },
    {
      "cell_type": "markdown",
      "metadata": {
        "id": "I17X8F69juaI"
      },
      "source": [
        "__values()__ it returns the values of objects/variables"
      ]
    },
    {
      "cell_type": "code",
      "metadata": {
        "colab": {
          "base_uri": "https://localhost:8080/",
          "height": 0
        },
        "id": "TXkaCjIKmThR",
        "outputId": "4b2affe3-daaf-4f85-aae4-a13d84df9cbf"
      },
      "source": [
        "new_animals.values()"
      ],
      "execution_count": 77,
      "outputs": [
        {
          "output_type": "execute_result",
          "data": {
            "text/plain": [
              "dict_values([['Dog', 'cow', 'cat'], ['lion', 'tiger', 'wolf']])"
            ]
          },
          "metadata": {
            "tags": []
          },
          "execution_count": 77
        }
      ]
    },
    {
      "cell_type": "markdown",
      "metadata": {
        "id": "FWBgV5bui36g"
      },
      "source": [
        "__Clear()__ It clear the items in the dictionaries\n"
      ]
    },
    {
      "cell_type": "code",
      "metadata": {
        "colab": {
          "base_uri": "https://localhost:8080/",
          "height": 0
        },
        "id": "VwDY-eLWivn1",
        "outputId": "5db3fb9b-6e82-4b56-d894-d9da25490d9a"
      },
      "source": [
        "new_animals.clear()\n",
        "print(new_animals)"
      ],
      "execution_count": 80,
      "outputs": [
        {
          "output_type": "stream",
          "text": [
            "{}\n"
          ],
          "name": "stdout"
        }
      ]
    },
    {
      "cell_type": "markdown",
      "metadata": {
        "id": "ki6QrYi3mkJB"
      },
      "source": [
        "__update()__ it adds the new item to the dictionaries"
      ]
    },
    {
      "cell_type": "code",
      "metadata": {
        "colab": {
          "base_uri": "https://localhost:8080/",
          "height": 0
        },
        "id": "r0Qy5PkXrZVK",
        "outputId": "9f8ae95c-9bdc-4f46-f3cf-85ea82ddaad4"
      },
      "source": [
        "animal={\"forest\":\"amazon\"}\n",
        "animal.update(animals)\n",
        "print(animal)"
      ],
      "execution_count": 102,
      "outputs": [
        {
          "output_type": "stream",
          "text": [
            "{'forest': 'amazon', 'domestic': ['Dog', 'cow', 'cat'], 'wild': ['lion', 'tiger', 'wolf']}\n"
          ],
          "name": "stdout"
        }
      ]
    },
    {
      "cell_type": "markdown",
      "metadata": {
        "id": "o45Nr_O368-Z"
      },
      "source": [
        "__pop()__ removes the item from dictionaries"
      ]
    },
    {
      "cell_type": "code",
      "metadata": {
        "colab": {
          "base_uri": "https://localhost:8080/",
          "height": 0
        },
        "id": "n2KzWksJ6VMx",
        "outputId": "dd838e78-f854-4936-b0ce-efd6e40e7d6a"
      },
      "source": [
        "animal.pop(\"forest\")\n",
        "animal"
      ],
      "execution_count": 103,
      "outputs": [
        {
          "output_type": "execute_result",
          "data": {
            "text/plain": [
              "{'domestic': ['Dog', 'cow', 'cat'], 'wild': ['lion', 'tiger', 'wolf']}"
            ]
          },
          "metadata": {
            "tags": []
          },
          "execution_count": 103
        }
      ]
    },
    {
      "cell_type": "markdown",
      "metadata": {
        "id": "VQDTnnUp7bHp"
      },
      "source": [
        "__get()__ returns the values of key"
      ]
    },
    {
      "cell_type": "code",
      "metadata": {
        "colab": {
          "base_uri": "https://localhost:8080/",
          "height": 0
        },
        "id": "LGxZEq2x7IAH",
        "outputId": "1422ef00-5d2b-4613-a1e4-7d20cc9724a9"
      },
      "source": [
        "animal.get(\"domestic\")"
      ],
      "execution_count": 94,
      "outputs": [
        {
          "output_type": "execute_result",
          "data": {
            "text/plain": [
              "['Dog', 'cow', 'cat']"
            ]
          },
          "metadata": {
            "tags": []
          },
          "execution_count": 94
        }
      ]
    },
    {
      "cell_type": "markdown",
      "metadata": {
        "id": "ct0zORYW7yND"
      },
      "source": [
        "__popitem()__ it removes the last item from list"
      ]
    },
    {
      "cell_type": "code",
      "metadata": {
        "colab": {
          "base_uri": "https://localhost:8080/",
          "height": 0
        },
        "id": "MMz9VWBS7nOO",
        "outputId": "be38d68f-4605-4de6-99e5-0cfc05b7a074"
      },
      "source": [
        "animal.popitem()\n",
        "animal"
      ],
      "execution_count": 104,
      "outputs": [
        {
          "output_type": "execute_result",
          "data": {
            "text/plain": [
              "{'domestic': ['Dog', 'cow', 'cat']}"
            ]
          },
          "metadata": {
            "tags": []
          },
          "execution_count": 104
        }
      ]
    },
    {
      "cell_type": "markdown",
      "metadata": {
        "id": "fPXx0vi38NdG"
      },
      "source": [
        "__modify__ values "
      ]
    },
    {
      "cell_type": "code",
      "metadata": {
        "colab": {
          "base_uri": "https://localhost:8080/",
          "height": 0
        },
        "id": "OKhs1v2P8ATc",
        "outputId": "4a8c7369-157d-4964-dab7-cc4cae3ef666"
      },
      "source": [
        "animal[\"domestic\"]=['Dog', 'cow', 'cat','buffalo']\n",
        "animal"
      ],
      "execution_count": 110,
      "outputs": [
        {
          "output_type": "execute_result",
          "data": {
            "text/plain": [
              "{'domestic': ['Dog', 'cow', 'cat', 'buffalo']}"
            ]
          },
          "metadata": {
            "tags": []
          },
          "execution_count": 110
        }
      ]
    }
  ]
}