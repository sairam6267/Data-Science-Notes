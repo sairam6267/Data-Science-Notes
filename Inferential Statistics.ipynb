{
 "cells": [
  {
   "cell_type": "markdown",
   "metadata": {},
   "source": [
    "# INFERENTIAL STATISTICS"
   ]
  },
  {
   "cell_type": "markdown",
   "metadata": {},
   "source": [
    "__Inferential Statistics estimates__  values from population where the samples are collected.Inferential concept is used when the data is dificult to collect or expensive from whole population, The only way to estimate the values, is collect random samples where the each individual from population have the chances to get selected. Estimated results of sample should represent the whole population oterwise it could leads to sample errors so, choosing correct sampling techniques gives the approx. estimation values instead of using convnient sample."
   ]
  },
  {
   "cell_type": "markdown",
   "metadata": {},
   "source": [
    "__Example__\n",
    "* suppose a medical researchers  have some collected data of blood cancer patients and also they have the drug which may prevent the blood cancer, to estimate drug is working or not they will do trails on the samples which they have colleted from patients."
   ]
  },
  {
   "cell_type": "markdown",
   "metadata": {},
   "source": [
    "* Covaccine working prediction, a pharma comapany have the data of covid patients with different parameters affecting the body organs if they have drug which may cure covid .so , to test the drug they will do trials on samples of covid patients if trials gives estimated health condition then they will introduce into population.  "
   ]
  },
  {
   "cell_type": "markdown",
   "metadata": {},
   "source": [
    "__Central limit theorem__ states that sample distribution of mean is aprroximately equal to population means and sampling distributed mean approaches normal distribution as sample size gets larger.\n",
    "* To prove first statement,let us take the m number of samples which are selected with Uniform Randon sampling from population and do the average of each sampling upto m samples the avearage values may be biased even tough samples are selected unifrom randomly after these m number of averages lets us do the mean of m sample which gives approx value that represents the mean.\n"
   ]
  },
  {
   "attachments": {
    "clt.png": {
     "image/png": "[encoded data removed]"
    }
   },
   "cell_type": "markdown",
   "metadata": {},
   "source": [
    "![clt.png](attachment:clt.png)"
   ]
  },
  {
   "cell_type": "markdown",
   "metadata": {},
   "source": [
    "* Lets us do small Experiment to prove the statements of cental limit theorem, from the below population data lets find the mean  sampling distribution salary  aprrox.equal to population mean salary."
   ]
  },
  {
   "cell_type": "markdown",
   "metadata": {},
   "source": [
    "__POPULATION DATA__"
   ]
  },
  {
   "cell_type": "code",
   "execution_count": 1,
   "metadata": {},
   "outputs": [],
   "source": [
    "import math as m\n",
    "import pandas as pd\n",
    "import numpy as np\n",
    "import matplotlib.pyplot as plt\n",
    "import seaborn as sns\n",
    "import warnings\n",
    "warnings.filterwarnings(\"ignore\")\n",
    "import random\n",
    "from scipy.stats import norm\n",
    "random.seed=42"
   ]
  },
  {
   "cell_type": "code",
   "execution_count": 2,
   "metadata": {},
   "outputs": [],
   "source": [
    "population=pd.read_csv(\"E:\\\\innomatics\\\\mix\\\\aspiring_minds.csv\")"
   ]
  },
  {
   "cell_type": "code",
   "execution_count": 3,
   "metadata": {},
   "outputs": [
    {
     "data": {
      "text/html": [
       "<div>\n",
       "<style scoped>\n",
       "    .dataframe tbody tr th:only-of-type {\n",
       "        vertical-align: middle;\n",
       "    }\n",
       "\n",
       "    .dataframe tbody tr th {\n",
       "        vertical-align: top;\n",
       "    }\n",
       "\n",
       "    .dataframe thead th {\n",
       "        text-align: right;\n",
       "    }\n",
       "</style>\n",
       "<table border=\"1\" class=\"dataframe\">\n",
       "  <thead>\n",
       "    <tr style=\"text-align: right;\">\n",
       "      <th></th>\n",
       "      <th>Unnamed: 0</th>\n",
       "      <th>ID</th>\n",
       "      <th>Salary</th>\n",
       "      <th>DOJ</th>\n",
       "      <th>DOL</th>\n",
       "      <th>Designation</th>\n",
       "      <th>JobCity</th>\n",
       "      <th>Gender</th>\n",
       "      <th>DOB</th>\n",
       "      <th>10percentage</th>\n",
       "      <th>...</th>\n",
       "      <th>ComputerScience</th>\n",
       "      <th>MechanicalEngg</th>\n",
       "      <th>ElectricalEngg</th>\n",
       "      <th>TelecomEngg</th>\n",
       "      <th>CivilEngg</th>\n",
       "      <th>conscientiousness</th>\n",
       "      <th>agreeableness</th>\n",
       "      <th>extraversion</th>\n",
       "      <th>nueroticism</th>\n",
       "      <th>openess_to_experience</th>\n",
       "    </tr>\n",
       "  </thead>\n",
       "  <tbody>\n",
       "    <tr>\n",
       "      <th>0</th>\n",
       "      <td>train</td>\n",
       "      <td>203097</td>\n",
       "      <td>420000.0</td>\n",
       "      <td>6/1/2012 0:00</td>\n",
       "      <td>present</td>\n",
       "      <td>senior quality engineer</td>\n",
       "      <td>Bangalore</td>\n",
       "      <td>f</td>\n",
       "      <td>2/19/1990 0:00</td>\n",
       "      <td>84.3</td>\n",
       "      <td>...</td>\n",
       "      <td>-1</td>\n",
       "      <td>-1</td>\n",
       "      <td>-1</td>\n",
       "      <td>-1</td>\n",
       "      <td>-1</td>\n",
       "      <td>0.9737</td>\n",
       "      <td>0.8128</td>\n",
       "      <td>0.5269</td>\n",
       "      <td>1.35490</td>\n",
       "      <td>-0.4455</td>\n",
       "    </tr>\n",
       "    <tr>\n",
       "      <th>1</th>\n",
       "      <td>train</td>\n",
       "      <td>579905</td>\n",
       "      <td>500000.0</td>\n",
       "      <td>9/1/2013 0:00</td>\n",
       "      <td>present</td>\n",
       "      <td>assistant manager</td>\n",
       "      <td>Indore</td>\n",
       "      <td>m</td>\n",
       "      <td>10/4/1989 0:00</td>\n",
       "      <td>85.4</td>\n",
       "      <td>...</td>\n",
       "      <td>-1</td>\n",
       "      <td>-1</td>\n",
       "      <td>-1</td>\n",
       "      <td>-1</td>\n",
       "      <td>-1</td>\n",
       "      <td>-0.7335</td>\n",
       "      <td>0.3789</td>\n",
       "      <td>1.2396</td>\n",
       "      <td>-0.10760</td>\n",
       "      <td>0.8637</td>\n",
       "    </tr>\n",
       "    <tr>\n",
       "      <th>2</th>\n",
       "      <td>train</td>\n",
       "      <td>810601</td>\n",
       "      <td>325000.0</td>\n",
       "      <td>6/1/2014 0:00</td>\n",
       "      <td>present</td>\n",
       "      <td>systems engineer</td>\n",
       "      <td>Chennai</td>\n",
       "      <td>f</td>\n",
       "      <td>8/3/1992 0:00</td>\n",
       "      <td>85.0</td>\n",
       "      <td>...</td>\n",
       "      <td>-1</td>\n",
       "      <td>-1</td>\n",
       "      <td>-1</td>\n",
       "      <td>-1</td>\n",
       "      <td>-1</td>\n",
       "      <td>0.2718</td>\n",
       "      <td>1.7109</td>\n",
       "      <td>0.1637</td>\n",
       "      <td>-0.86820</td>\n",
       "      <td>0.6721</td>\n",
       "    </tr>\n",
       "    <tr>\n",
       "      <th>3</th>\n",
       "      <td>train</td>\n",
       "      <td>267447</td>\n",
       "      <td>1100000.0</td>\n",
       "      <td>7/1/2011 0:00</td>\n",
       "      <td>present</td>\n",
       "      <td>senior software engineer</td>\n",
       "      <td>Gurgaon</td>\n",
       "      <td>m</td>\n",
       "      <td>12/5/1989 0:00</td>\n",
       "      <td>85.6</td>\n",
       "      <td>...</td>\n",
       "      <td>-1</td>\n",
       "      <td>-1</td>\n",
       "      <td>-1</td>\n",
       "      <td>-1</td>\n",
       "      <td>-1</td>\n",
       "      <td>0.0464</td>\n",
       "      <td>0.3448</td>\n",
       "      <td>-0.3440</td>\n",
       "      <td>-0.40780</td>\n",
       "      <td>-0.9194</td>\n",
       "    </tr>\n",
       "    <tr>\n",
       "      <th>4</th>\n",
       "      <td>train</td>\n",
       "      <td>343523</td>\n",
       "      <td>200000.0</td>\n",
       "      <td>3/1/2014 0:00</td>\n",
       "      <td>3/1/2015 0:00</td>\n",
       "      <td>get</td>\n",
       "      <td>Manesar</td>\n",
       "      <td>m</td>\n",
       "      <td>2/27/1991 0:00</td>\n",
       "      <td>78.0</td>\n",
       "      <td>...</td>\n",
       "      <td>-1</td>\n",
       "      <td>-1</td>\n",
       "      <td>-1</td>\n",
       "      <td>-1</td>\n",
       "      <td>-1</td>\n",
       "      <td>-0.8810</td>\n",
       "      <td>-0.2793</td>\n",
       "      <td>-1.0697</td>\n",
       "      <td>0.09163</td>\n",
       "      <td>-0.1295</td>\n",
       "    </tr>\n",
       "  </tbody>\n",
       "</table>\n",
       "<p>5 rows × 39 columns</p>\n",
       "</div>"
      ],
      "text/plain": [
       "  Unnamed: 0      ID     Salary            DOJ            DOL  \\\n",
       "0      train  203097   420000.0  6/1/2012 0:00        present   \n",
       "1      train  579905   500000.0  9/1/2013 0:00        present   \n",
       "2      train  810601   325000.0  6/1/2014 0:00        present   \n",
       "3      train  267447  1100000.0  7/1/2011 0:00        present   \n",
       "4      train  343523   200000.0  3/1/2014 0:00  3/1/2015 0:00   \n",
       "\n",
       "                Designation    JobCity Gender             DOB  10percentage  \\\n",
       "0   senior quality engineer  Bangalore      f  2/19/1990 0:00          84.3   \n",
       "1         assistant manager     Indore      m  10/4/1989 0:00          85.4   \n",
       "2          systems engineer    Chennai      f   8/3/1992 0:00          85.0   \n",
       "3  senior software engineer    Gurgaon      m  12/5/1989 0:00          85.6   \n",
       "4                       get    Manesar      m  2/27/1991 0:00          78.0   \n",
       "\n",
       "   ... ComputerScience  MechanicalEngg  ElectricalEngg TelecomEngg  CivilEngg  \\\n",
       "0  ...              -1              -1              -1          -1         -1   \n",
       "1  ...              -1              -1              -1          -1         -1   \n",
       "2  ...              -1              -1              -1          -1         -1   \n",
       "3  ...              -1              -1              -1          -1         -1   \n",
       "4  ...              -1              -1              -1          -1         -1   \n",
       "\n",
       "   conscientiousness agreeableness extraversion  nueroticism  \\\n",
       "0             0.9737        0.8128       0.5269      1.35490   \n",
       "1            -0.7335        0.3789       1.2396     -0.10760   \n",
       "2             0.2718        1.7109       0.1637     -0.86820   \n",
       "3             0.0464        0.3448      -0.3440     -0.40780   \n",
       "4            -0.8810       -0.2793      -1.0697      0.09163   \n",
       "\n",
       "   openess_to_experience  \n",
       "0                -0.4455  \n",
       "1                 0.8637  \n",
       "2                 0.6721  \n",
       "3                -0.9194  \n",
       "4                -0.1295  \n",
       "\n",
       "[5 rows x 39 columns]"
      ]
     },
     "execution_count": 3,
     "metadata": {},
     "output_type": "execute_result"
    }
   ],
   "source": [
    "population.head()"
   ]
  },
  {
   "cell_type": "markdown",
   "metadata": {},
   "source": [
    "__Identify population mean salary__"
   ]
  },
  {
   "cell_type": "code",
   "execution_count": 4,
   "metadata": {},
   "outputs": [
    {
     "name": "stdout",
     "output_type": "stream",
     "text": [
      "Population mean salary is : 307699.8499249625\n"
     ]
    }
   ],
   "source": [
    "pop_mean=population[\"Salary\"].mean()\n",
    "print(\"Population mean salary is :\",pop_mean)"
   ]
  },
  {
   "cell_type": "code",
   "execution_count": 5,
   "metadata": {},
   "outputs": [
    {
     "data": {
      "text/plain": [
       "212737.4999568574"
      ]
     },
     "execution_count": 5,
     "metadata": {},
     "output_type": "execute_result"
    }
   ],
   "source": [
    "pop_std_dev=population[\"Salary\"].std()\n",
    "pop_std_dev"
   ]
  },
  {
   "cell_type": "markdown",
   "metadata": {},
   "source": [
    "__Select sample from population__"
   ]
  },
  {
   "cell_type": "code",
   "execution_count": 6,
   "metadata": {},
   "outputs": [],
   "source": [
    "sample=random.sample(range(0,population.shape[0]),50)"
   ]
  },
  {
   "cell_type": "code",
   "execution_count": 7,
   "metadata": {},
   "outputs": [
    {
     "name": "stdout",
     "output_type": "stream",
     "text": [
      "random samples \n"
     ]
    },
    {
     "data": {
      "text/html": [
       "<div>\n",
       "<style scoped>\n",
       "    .dataframe tbody tr th:only-of-type {\n",
       "        vertical-align: middle;\n",
       "    }\n",
       "\n",
       "    .dataframe tbody tr th {\n",
       "        vertical-align: top;\n",
       "    }\n",
       "\n",
       "    .dataframe thead th {\n",
       "        text-align: right;\n",
       "    }\n",
       "</style>\n",
       "<table border=\"1\" class=\"dataframe\">\n",
       "  <thead>\n",
       "    <tr style=\"text-align: right;\">\n",
       "      <th></th>\n",
       "      <th>Unnamed: 0</th>\n",
       "      <th>ID</th>\n",
       "      <th>Salary</th>\n",
       "      <th>DOJ</th>\n",
       "      <th>DOL</th>\n",
       "      <th>Designation</th>\n",
       "      <th>JobCity</th>\n",
       "      <th>Gender</th>\n",
       "      <th>DOB</th>\n",
       "      <th>10percentage</th>\n",
       "      <th>...</th>\n",
       "      <th>ComputerScience</th>\n",
       "      <th>MechanicalEngg</th>\n",
       "      <th>ElectricalEngg</th>\n",
       "      <th>TelecomEngg</th>\n",
       "      <th>CivilEngg</th>\n",
       "      <th>conscientiousness</th>\n",
       "      <th>agreeableness</th>\n",
       "      <th>extraversion</th>\n",
       "      <th>nueroticism</th>\n",
       "      <th>openess_to_experience</th>\n",
       "    </tr>\n",
       "  </thead>\n",
       "  <tbody>\n",
       "    <tr>\n",
       "      <th>931</th>\n",
       "      <td>train</td>\n",
       "      <td>606548</td>\n",
       "      <td>630000.0</td>\n",
       "      <td>1/1/2014 0:00</td>\n",
       "      <td>present</td>\n",
       "      <td>business analyst consultant</td>\n",
       "      <td>bengaluru</td>\n",
       "      <td>m</td>\n",
       "      <td>10/17/1991 0:00</td>\n",
       "      <td>91.40</td>\n",
       "      <td>...</td>\n",
       "      <td>-1</td>\n",
       "      <td>-1</td>\n",
       "      <td>-1</td>\n",
       "      <td>-1</td>\n",
       "      <td>-1</td>\n",
       "      <td>-0.1590</td>\n",
       "      <td>-0.2871</td>\n",
       "      <td>0.0100</td>\n",
       "      <td>-0.3612</td>\n",
       "      <td>0.4805</td>\n",
       "    </tr>\n",
       "    <tr>\n",
       "      <th>3772</th>\n",
       "      <td>train</td>\n",
       "      <td>998012</td>\n",
       "      <td>190000.0</td>\n",
       "      <td>2/1/2014 0:00</td>\n",
       "      <td>7/1/2014 0:00</td>\n",
       "      <td>qa analyst</td>\n",
       "      <td>Hyderabad</td>\n",
       "      <td>f</td>\n",
       "      <td>1/26/1991 0:00</td>\n",
       "      <td>86.50</td>\n",
       "      <td>...</td>\n",
       "      <td>223</td>\n",
       "      <td>-1</td>\n",
       "      <td>452</td>\n",
       "      <td>-1</td>\n",
       "      <td>-1</td>\n",
       "      <td>1.7081</td>\n",
       "      <td>0.8784</td>\n",
       "      <td>0.0100</td>\n",
       "      <td>-1.3753</td>\n",
       "      <td>0.0973</td>\n",
       "    </tr>\n",
       "    <tr>\n",
       "      <th>3250</th>\n",
       "      <td>train</td>\n",
       "      <td>453953</td>\n",
       "      <td>480000.0</td>\n",
       "      <td>8/1/2010 0:00</td>\n",
       "      <td>present</td>\n",
       "      <td>application engineer</td>\n",
       "      <td>Navi mumbai</td>\n",
       "      <td>m</td>\n",
       "      <td>9/24/1985 0:00</td>\n",
       "      <td>69.33</td>\n",
       "      <td>...</td>\n",
       "      <td>-1</td>\n",
       "      <td>-1</td>\n",
       "      <td>-1</td>\n",
       "      <td>-1</td>\n",
       "      <td>-1</td>\n",
       "      <td>-0.3014</td>\n",
       "      <td>-1.0593</td>\n",
       "      <td>-1.2148</td>\n",
       "      <td>-0.7015</td>\n",
       "      <td>-0.9194</td>\n",
       "    </tr>\n",
       "    <tr>\n",
       "      <th>1413</th>\n",
       "      <td>train</td>\n",
       "      <td>1025205</td>\n",
       "      <td>150000.0</td>\n",
       "      <td>1/1/2015 0:00</td>\n",
       "      <td>4/1/2015 0:00</td>\n",
       "      <td>java software engineer</td>\n",
       "      <td>chennai</td>\n",
       "      <td>m</td>\n",
       "      <td>12/22/1992 0:00</td>\n",
       "      <td>84.60</td>\n",
       "      <td>...</td>\n",
       "      <td>-1</td>\n",
       "      <td>-1</td>\n",
       "      <td>388</td>\n",
       "      <td>-1</td>\n",
       "      <td>-1</td>\n",
       "      <td>0.7027</td>\n",
       "      <td>1.0449</td>\n",
       "      <td>2.0080</td>\n",
       "      <td>-2.1360</td>\n",
       "      <td>-0.4776</td>\n",
       "    </tr>\n",
       "    <tr>\n",
       "      <th>3464</th>\n",
       "      <td>train</td>\n",
       "      <td>924541</td>\n",
       "      <td>210000.0</td>\n",
       "      <td>10/1/2014 0:00</td>\n",
       "      <td>3/1/2015 0:00</td>\n",
       "      <td>trainee engineer</td>\n",
       "      <td>Bangalore</td>\n",
       "      <td>f</td>\n",
       "      <td>2/25/1992 0:00</td>\n",
       "      <td>86.00</td>\n",
       "      <td>...</td>\n",
       "      <td>530</td>\n",
       "      <td>-1</td>\n",
       "      <td>-1</td>\n",
       "      <td>-1</td>\n",
       "      <td>-1</td>\n",
       "      <td>1.2772</td>\n",
       "      <td>0.0459</td>\n",
       "      <td>0.6248</td>\n",
       "      <td>-1.3753</td>\n",
       "      <td>0.6721</td>\n",
       "    </tr>\n",
       "  </tbody>\n",
       "</table>\n",
       "<p>5 rows × 39 columns</p>\n",
       "</div>"
      ],
      "text/plain": [
       "     Unnamed: 0       ID    Salary             DOJ            DOL  \\\n",
       "931       train   606548  630000.0   1/1/2014 0:00        present   \n",
       "3772      train   998012  190000.0   2/1/2014 0:00  7/1/2014 0:00   \n",
       "3250      train   453953  480000.0   8/1/2010 0:00        present   \n",
       "1413      train  1025205  150000.0   1/1/2015 0:00  4/1/2015 0:00   \n",
       "3464      train   924541  210000.0  10/1/2014 0:00  3/1/2015 0:00   \n",
       "\n",
       "                      Designation      JobCity Gender              DOB  \\\n",
       "931   business analyst consultant    bengaluru      m  10/17/1991 0:00   \n",
       "3772                   qa analyst    Hyderabad      f   1/26/1991 0:00   \n",
       "3250         application engineer  Navi mumbai      m   9/24/1985 0:00   \n",
       "1413       java software engineer      chennai      m  12/22/1992 0:00   \n",
       "3464             trainee engineer    Bangalore      f   2/25/1992 0:00   \n",
       "\n",
       "      10percentage  ... ComputerScience  MechanicalEngg  ElectricalEngg  \\\n",
       "931          91.40  ...              -1              -1              -1   \n",
       "3772         86.50  ...             223              -1             452   \n",
       "3250         69.33  ...              -1              -1              -1   \n",
       "1413         84.60  ...              -1              -1             388   \n",
       "3464         86.00  ...             530              -1              -1   \n",
       "\n",
       "     TelecomEngg  CivilEngg  conscientiousness agreeableness extraversion  \\\n",
       "931           -1         -1            -0.1590       -0.2871       0.0100   \n",
       "3772          -1         -1             1.7081        0.8784       0.0100   \n",
       "3250          -1         -1            -0.3014       -1.0593      -1.2148   \n",
       "1413          -1         -1             0.7027        1.0449       2.0080   \n",
       "3464          -1         -1             1.2772        0.0459       0.6248   \n",
       "\n",
       "      nueroticism  openess_to_experience  \n",
       "931       -0.3612                 0.4805  \n",
       "3772      -1.3753                 0.0973  \n",
       "3250      -0.7015                -0.9194  \n",
       "1413      -2.1360                -0.4776  \n",
       "3464      -1.3753                 0.6721  \n",
       "\n",
       "[5 rows x 39 columns]"
      ]
     },
     "execution_count": 7,
     "metadata": {},
     "output_type": "execute_result"
    }
   ],
   "source": [
    "sample1=population.iloc[sample]\n",
    "print(\"random samples \")\n",
    "sample1.head()"
   ]
  },
  {
   "cell_type": "markdown",
   "metadata": {},
   "source": [
    "__Check selected sample Biased or Not__"
   ]
  },
  {
   "cell_type": "code",
   "execution_count": 8,
   "metadata": {},
   "outputs": [
    {
     "data": {
      "image/png": "[encoded data removed]",
      "text/plain": [
       "<Figure size 432x288 with 1 Axes>"
      ]
     },
     "metadata": {
      "needs_background": "light"
     },
     "output_type": "display_data"
    },
    {
     "name": "stdout",
     "output_type": "stream",
     "text": [
      " 1. Distribution is not  looking like normal distribution which is Biased\n",
      " 2. 307100.0 sampling mean salary is not equal to population mean salary:  307699.8499249625 and it is also considered as point   estimation\n"
     ]
    }
   ],
   "source": [
    "sns.distplot(sample1[\"Salary\"])\n",
    "plt.show()\n",
    "print(\" 1. Distribution is not  looking like normal distribution which is Biased\\n 2.\",sample1[\"Salary\"].mean(),\"sampling mean salary is not equal to population mean salary: \",population[\"Salary\"].mean() ,\"and it is also considered as point   estimation\")"
   ]
  },
  {
   "cell_type": "markdown",
   "metadata": {},
   "source": [
    "__Conclusion:  single sample mean doesnt give the approxmation of population mean salary__"
   ]
  },
  {
   "cell_type": "markdown",
   "metadata": {},
   "source": [
    "__Select 'm' number of samples__"
   ]
  },
  {
   "cell_type": "code",
   "execution_count": 59,
   "metadata": {},
   "outputs": [],
   "source": [
    "def Mean(sample_size,n_elem):\n",
    "    mean=[]\n",
    "    for i in range(0,sample_size):\n",
    "        sample=random.sample(range(0,population.shape[0]),n_elem)\n",
    "        mean.append(population.iloc[sample, 2].mean())\n",
    "    return mean\n",
    "samples_means=Mean(100,50)\n",
    "mean_sample=np.mean(samples_means)"
   ]
  },
  {
   "cell_type": "code",
   "execution_count": 60,
   "metadata": {},
   "outputs": [
    {
     "name": "stdout",
     "output_type": "stream",
     "text": [
      "301519.0 sampling mean distribution is approx. equal to population mean 307699.8499249625\n"
     ]
    }
   ],
   "source": [
    "print(mean_sample,\"sampling mean distribution is approx. equal to population mean\",population[\"Salary\"].mean())"
   ]
  },
  {
   "cell_type": "code",
   "execution_count": 61,
   "metadata": {},
   "outputs": [
    {
     "name": "stdout",
     "output_type": "stream",
     "text": [
      "standard sample deviatiion: 212710.89280273343\n"
     ]
    }
   ],
   "source": [
    "def sample_std_dev(obs):\n",
    "    pop_variance=[]\n",
    "    pop_mean=sum(obs)/len(obs)\n",
    "    for i in obs:\n",
    "        pop_variance.append((i-pop_mean)**2)\n",
    "    return m.sqrt(np.sum(pop_variance)/len(obs))\n",
    "std_dev=sample_std_dev(population.Salary)\n",
    "print(\"standard sample deviatiion:\",std_dev)"
   ]
  },
  {
   "cell_type": "markdown",
   "metadata": {},
   "source": [
    "__Conclusion : m number of samples gives the approximation of population mean salary__"
   ]
  },
  {
   "cell_type": "markdown",
   "metadata": {},
   "source": [
    "* To prove the second statement let us take  parameters of Normal distribution (mean sample , populaion standard deviation)"
   ]
  },
  {
   "cell_type": "code",
   "execution_count": 47,
   "metadata": {},
   "outputs": [
    {
     "data": {
      "image/png": "[encoded data removed]",
      "text/plain": [
       "<Figure size 432x288 with 1 Axes>"
      ]
     },
     "metadata": {
      "needs_background": "light"
     },
     "output_type": "display_data"
    }
   ],
   "source": [
    "samples_means=Mean(1000,100)\n",
    "sns.distplot(np.array(samples_means))\n",
    "plt.show()"
   ]
  },
  {
   "cell_type": "markdown",
   "metadata": {},
   "source": [
    "__Note: as the sample size increases it follows follows normal distribution__\n"
   ]
  },
  {
   "cell_type": "markdown",
   "metadata": {},
   "source": [
    "### Point Estimate.\n",
    "* Point estimate is single  value of  sample data it can be give the  mean value of sample data but it is not an accuracy value because the  expected value may be different and point estiomation may be biased."
   ]
  },
  {
   "cell_type": "code",
   "execution_count": 70,
   "metadata": {},
   "outputs": [
    {
     "data": {
      "image/png": "[encoded data removed]",
      "text/plain": [
       "<Figure size 432x288 with 1 Axes>"
      ]
     },
     "metadata": {
      "needs_background": "light"
     },
     "output_type": "display_data"
    }
   ],
   "source": [
    "samples_means=Mean(100,50)\n",
    "sns.distplot(np.array(samples_means),hist=False)\n",
    "# point estimate\n",
    "plt.scatter(pop_mean, 0,color=\"red\",label='expected value')\n",
    "plt.scatter(mean_sample,0)\n",
    "plt.show()"
   ]
  },
  {
   "cell_type": "markdown",
   "metadata": {},
   "source": [
    "###  Interval estimation:\n",
    "*  interval estimation uses sample data to calculate the interval of the possible values of an unknown parameter of a population. The interval of the parameter is selected in a way that it falls within a 95% or higher probability, also known as the confidence interval"
   ]
  },
  {
   "cell_type": "code",
   "execution_count": 49,
   "metadata": {},
   "outputs": [
    {
     "name": "stdout",
     "output_type": "stream",
     "text": [
      "z  value:  1.6448536269514722\n"
     ]
    }
   ],
   "source": [
    "confidence_level = 0.95\n",
    "alpha = 1 - confidence_level\n",
    "z_std_dev = norm.ppf(1 - alpha)\n",
    "print(\"z  value: \",z_std_dev)"
   ]
  },
  {
   "cell_type": "markdown",
   "metadata": {},
   "source": [
    "$$ CI=\\left[\\bar{x} -Z*\\frac{s}{\\sqrt{n}} \\space,\\space\\bar{x} +Z*\\frac{s}{\\sqrt{n}} \\right]$$"
   ]
  },
  {
   "cell_type": "code",
   "execution_count": 50,
   "metadata": {},
   "outputs": [
    {
     "name": "stdout",
     "output_type": "stream",
     "text": [
      " left lower  estimated value from sample mean   273869.23164813383\n"
     ]
    }
   ],
   "source": [
    "def ci(sample_mean,z_value,sample_stddev,sample_size):\n",
    "    \n",
    "    return sample_mean-(z_value*(sample_stddev/m.sqrt(sample_size)))\n",
    "left_std_dev=ci(mean_sample,z_std_dev,std_dev,100)\n",
    "print(\" left lower  estimated value from sample mean  \",left_std_dev)"
   ]
  },
  {
   "cell_type": "code",
   "execution_count": 51,
   "metadata": {},
   "outputs": [
    {
     "name": "stdout",
     "output_type": "stream",
     "text": [
      "right lower  estimated value from sample mean  343844.88835186616\n"
     ]
    }
   ],
   "source": [
    "def ci(sample_mean,z_value,sample_stddev,sample_size):\n",
    "    \n",
    "    return sample_mean+(z_value*(sample_stddev/m.sqrt(sample_size)))\n",
    "right_std_dev=ci(mean_sample,z_std_dev,std_dev,100)\n",
    "print(\"right lower  estimated value from sample mean \",right_std_dev)"
   ]
  },
  {
   "cell_type": "code",
   "execution_count": 58,
   "metadata": {},
   "outputs": [
    {
     "data": {
      "image/png": "[encoded data removed]",
      "text/plain": [
       "<Figure size 432x288 with 1 Axes>"
      ]
     },
     "metadata": {
      "needs_background": "light"
     },
     "output_type": "display_data"
    }
   ],
   "source": [
    "samples_means=Mean(100,50)\n",
    "sns.distplot(np.array(samples_means))\n",
    "plt.axvline(left_std_dev,color=\"black\")\n",
    "plt.axvline(right_std_dev,color=\"black\")\n",
    "plt.axvline(mean_sample,color=\"orange\",label='mean_sample')\n",
    "plt.show()"
   ]
  }
 ],
 "metadata": {
  "kernelspec": {
   "display_name": "Python 3",
   "language": "python",
   "name": "python3"
  },
  "language_info": {
   "codemirror_mode": {
    "name": "ipython",
    "version": 3
   },
   "file_extension": ".py",
   "mimetype": "text/x-python",
   "name": "python",
   "nbconvert_exporter": "python",
   "pygments_lexer": "ipython3",
   "version": "3.8.5"
  }
 },
 "nbformat": 4,
 "nbformat_minor": 4
}
