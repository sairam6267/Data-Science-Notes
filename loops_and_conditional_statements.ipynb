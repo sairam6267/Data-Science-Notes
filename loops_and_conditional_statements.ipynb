{
  "nbformat": 4,
  "nbformat_minor": 0,
  "metadata": {
    "colab": {
      "name": "loops and conditional statements.ipynb",
      "provenance": [],
      "collapsed_sections": [],
      "authorship_tag": "ABX9TyOHMpqOJEioJ0p4VqiQwWNq",
      "include_colab_link": true
    },
    "kernelspec": {
      "name": "python3",
      "display_name": "Python 3"
    },
    "language_info": {
      "name": "python"
    }
  },
  "cells": [
    {
      "cell_type": "markdown",
      "metadata": {
        "id": "view-in-github",
        "colab_type": "text"
      },
      "source": [
        "<a href=\"https://colab.research.google.com/github/sairam6267/Data-Science-Notes/blob/main/loops_and_conditional_statements.ipynb\" target=\"_parent\"><img src=\"https://colab.research.google.com/assets/colab-badge.svg\" alt=\"Open In Colab\"/></a>"
      ]
    },
    {
      "cell_type": "markdown",
      "metadata": {
        "id": "ZTKxipqduFea"
      },
      "source": [
        "## Conditional statements\n",
        " * In python conditional statements are also called decision makers.It performs actions based on user input conditions and  most frequent conditional satement is IF satements.\n",
        "  * if statement\n",
        "  * if else statement\n",
        "  * elif satement\n",
        "  * Nested if statement.\n",
        "  * Nested if elif statement."
      ]
    },
    {
      "cell_type": "markdown",
      "metadata": {
        "id": "pSFygwN0WOSy"
      },
      "source": [
        "__If statement__"
      ]
    },
    {
      "cell_type": "markdown",
      "metadata": {
        "id": "x3C_72ekWbmG"
      },
      "source": [
        "\n",
        "\n",
        "```\n",
        "# syntax:\n",
        "if (condition):\n",
        "    statements\n",
        "```\n",
        "* Example\n"
      ]
    },
    {
      "cell_type": "code",
      "metadata": {
        "id": "YFT0gWYfrlUz",
        "colab": {
          "base_uri": "https://localhost:8080/"
        },
        "outputId": "32ea1d8a-45ef-432f-9ec8-d419d48731d8"
      },
      "source": [
        "n=5\n",
        "if n%2!=0:\n",
        "  print(\"number is odd\")"
      ],
      "execution_count": null,
      "outputs": [
        {
          "output_type": "stream",
          "text": [
            "number is odd\n"
          ],
          "name": "stdout"
        }
      ]
    },
    {
      "cell_type": "markdown",
      "metadata": {
        "id": "5IWkk10UW0rP"
      },
      "source": [
        "\n",
        "__if else__\n",
        "```\n",
        "# syntax for if else\n",
        "if (condition):\n",
        "  statements..\n",
        "else:\n",
        "  statments...\n",
        "```\n",
        "* Example\n"
      ]
    },
    {
      "cell_type": "code",
      "metadata": {
        "colab": {
          "base_uri": "https://localhost:8080/"
        },
        "id": "e3hnN6hLwI2n",
        "outputId": "6173a79f-e8a3-462c-d60c-fbd029034021"
      },
      "source": [
        "n=int(input(\"Enter the number: \"))\n",
        "if n%2!=0:\n",
        "  print(\"number is odd\")\n",
        "else:\n",
        "  print(\"number  is even\")"
      ],
      "execution_count": null,
      "outputs": [
        {
          "output_type": "stream",
          "text": [
            "Enter the number: 2\n",
            "number  is even\n"
          ],
          "name": "stdout"
        }
      ]
    },
    {
      "cell_type": "markdown",
      "metadata": {
        "id": "B4XQw6bIXd5E"
      },
      "source": [
        "__if elif__\n",
        "```\n",
        "# syntax for if elif\n",
        "if (condition):\n",
        "  statements..\n",
        "elif(condition):\n",
        "  statments...\n",
        "```\n",
        "* Example\n"
      ]
    },
    {
      "cell_type": "code",
      "metadata": {
        "id": "pIrFbsh88EG9",
        "colab": {
          "base_uri": "https://localhost:8080/"
        },
        "outputId": "3558bfa8-a514-4b69-ea29-2a041bf9981f"
      },
      "source": [
        "n=int(input(\"Enter the number: \"))\n",
        "if n>10:\n",
        "  print(\"number is true\")\n",
        "elif 5<=n<=10:\n",
        "  print(\"number is in between\")"
      ],
      "execution_count": null,
      "outputs": [
        {
          "output_type": "stream",
          "text": [
            "Enter the number: 5\n",
            "number is in between\n"
          ],
          "name": "stdout"
        }
      ]
    },
    {
      "cell_type": "markdown",
      "metadata": {
        "id": "GheWlYQhX-nP"
      },
      "source": [
        "__if elif else__\n",
        "\n",
        "```\n",
        "# syntax for if elif else\n",
        "if (condition):\n",
        "  statements..\n",
        "elif(condition):\n",
        "  statements..\n",
        "else:\n",
        "  statements...\n",
        "```\n",
        "* Example\n",
        "\n"
      ]
    },
    {
      "cell_type": "code",
      "metadata": {
        "id": "ySsPdY4uxX60",
        "colab": {
          "base_uri": "https://localhost:8080/"
        },
        "outputId": "f768db87-cd2a-45dd-d9c0-23a36d0d4124"
      },
      "source": [
        "n=int(input(\"Enter the number: \"))\n",
        "if n>10:\n",
        "  print(\"number is true\")\n",
        "elif 5<=n<=10:\n",
        "  print(\"number is in between\")\n",
        "else:\n",
        "  print(\"number is false\")"
      ],
      "execution_count": null,
      "outputs": [
        {
          "output_type": "stream",
          "text": [
            "Enter the number: 1\n",
            "number is false\n"
          ],
          "name": "stdout"
        }
      ]
    },
    {
      "cell_type": "markdown",
      "metadata": {
        "id": "2IxhdlmbY1yX"
      },
      "source": [
        "__Nested if statements__\n",
        "\n",
        "\n",
        "```\n",
        "# syntax for nested if else\n",
        "if (conditions):\n",
        "    if(conditions):\n",
        "        statements....\n",
        "```\n",
        "* Example\n"
      ]
    },
    {
      "cell_type": "code",
      "metadata": {
        "colab": {
          "base_uri": "https://localhost:8080/"
        },
        "id": "oxyst4AS26lU",
        "outputId": "b0d91356-cd07-4613-9c0e-099ee06b097e"
      },
      "source": [
        "# nested\n",
        "n=int(input(\"Enter the number: \"))\n",
        "if n>20:\n",
        "  if n!=20:\n",
        "    print(\"entered correct\")"
      ],
      "execution_count": null,
      "outputs": [
        {
          "output_type": "stream",
          "text": [
            "Enter the number: 25\n",
            "entered correct\n"
          ],
          "name": "stdout"
        }
      ]
    },
    {
      "cell_type": "markdown",
      "metadata": {
        "id": "ueHxvuaNZz4h"
      },
      "source": [
        "__Nested if elif__\n",
        "\n",
        "\n",
        "```\n",
        "# syntax for nested if else\n",
        "if (conditions):\n",
        "    if(conditions):\n",
        "        statements....\n",
        "    else:\n",
        "        statements....\n",
        "```\n",
        "* Example"
      ]
    },
    {
      "cell_type": "code",
      "metadata": {
        "id": "v3LJJsCg6HNo",
        "colab": {
          "base_uri": "https://localhost:8080/"
        },
        "outputId": "2bb79a9f-3f1b-45f3-eaf2-3b89b878a332"
      },
      "source": [
        "n=int(input(\"Enter the number: \"))\n",
        "if n<20:\n",
        "  if n%2==0:\n",
        "    print(\"number is even\")\n",
        "  elif n%2!=0:\n",
        "    print(\"number is odd\")\n",
        "else:\n",
        "  print(\"Take numbers below 20\")"
      ],
      "execution_count": null,
      "outputs": [
        {
          "output_type": "stream",
          "text": [
            "Enter the number: 21\n",
            "Take numbers below 20\n"
          ],
          "name": "stdout"
        }
      ]
    },
    {
      "cell_type": "markdown",
      "metadata": {
        "id": "wKoiqFt2b-a4"
      },
      "source": [
        "### Loops: \n",
        "  * loop is defined as continuous and it do the same work repeatedly untill the condition is false.In pyhton there are two loops\n",
        "    * for loop\n",
        "    * while loop"
      ]
    },
    {
      "cell_type": "markdown",
      "metadata": {
        "id": "YmFc-3WRfIKC"
      },
      "source": [
        "__Difference between for loop and while loop__\n",
        "\n",
        "![\"diff\"](https://lh3.googleusercontent.com/proxy/frpGPdbWLN62vP_aQ14oZgH6Vrl1juyh5vXbZwCyaOmwW98nCOo8j5qpIIPDsyTgTzlRjl-bbq93SEOM4TZX35Wc0wDA55yf4kgHINY9w6uM2oxiOfoqFhwKzM9TITVey-VC5lZ918IT)"
      ]
    },
    {
      "cell_type": "markdown",
      "metadata": {
        "id": "Eo538qK9ET7q"
      },
      "source": [
        "__For loop__"
      ]
    },
    {
      "cell_type": "markdown",
      "metadata": {
        "id": "tCtqi7Zib19T"
      },
      "source": [
        "\n",
        "\n",
        "```\n",
        "#SYNTAX\n",
        "#for(initialization,condition,iteration):\n",
        "  #Statements\n",
        "```\n",
        "\n"
      ]
    },
    {
      "cell_type": "markdown",
      "metadata": {
        "id": "3aKxPtkYHhmm"
      },
      "source": [
        "![\"for\"](https://cdn.programiz.com/sites/tutorial2program/files/continue-statement-flowchart.jpg)"
      ]
    },
    {
      "cell_type": "markdown",
      "metadata": {
        "id": "IyyqDon8dOvT"
      },
      "source": [
        "__Examples__"
      ]
    },
    {
      "cell_type": "code",
      "metadata": {
        "colab": {
          "base_uri": "https://localhost:8080/"
        },
        "id": "z_shOy2DMsVJ",
        "outputId": "19bbfde9-f480-4151-ba05-0aa48136285a"
      },
      "source": [
        "# whole numbers in for loop\n",
        "for i in range(0,10):\n",
        "  print(i,\"\",end=\"\")\n"
      ],
      "execution_count": null,
      "outputs": [
        {
          "output_type": "stream",
          "text": [
            "0 1 2 3 4 5 6 7 8 9 "
          ],
          "name": "stdout"
        }
      ]
    },
    {
      "cell_type": "code",
      "metadata": {
        "colab": {
          "base_uri": "https://localhost:8080/"
        },
        "id": "CBfjzbVtAcBJ",
        "outputId": "db145349-79c0-4d6d-b165-ad67ca9a292c"
      },
      "source": [
        "# multiplication table in for loop\n",
        "for i in range(1,11):\n",
        "  mul=2*i\n",
        "  print(f\"2 x {i}  = \",mul)"
      ],
      "execution_count": null,
      "outputs": [
        {
          "output_type": "stream",
          "text": [
            "2 x 1  =  2\n",
            "2 x 2  =  4\n",
            "2 x 3  =  6\n",
            "2 x 4  =  8\n",
            "2 x 5  =  10\n",
            "2 x 6  =  12\n",
            "2 x 7  =  14\n",
            "2 x 8  =  16\n",
            "2 x 9  =  18\n",
            "2 x 10  =  20\n"
          ],
          "name": "stdout"
        }
      ]
    },
    {
      "cell_type": "markdown",
      "metadata": {
        "id": "iMKJyrJuH4Ur"
      },
      "source": [
        "__While loop__"
      ]
    },
    {
      "cell_type": "markdown",
      "metadata": {
        "id": "fMBRbbwWdoBG"
      },
      "source": [
        "\n",
        "\n",
        "```\n",
        "#syntax\n",
        "initialization\n",
        " while (condition):\n",
        "  #statements\n",
        "  #iteration\n",
        "```\n",
        "\n"
      ]
    },
    {
      "cell_type": "markdown",
      "metadata": {
        "id": "fGS36KmnIYtn"
      },
      "source": [
        "![\"while\"](https://beginnersbook.com/wp-content/uploads/2017/09/while_loop_C.jpg)"
      ]
    },
    {
      "cell_type": "code",
      "metadata": {
        "colab": {
          "base_uri": "https://localhost:8080/"
        },
        "id": "er0Ik4Uod_IM",
        "outputId": "b5e8fb3d-cc4c-4631-bc77-48e6f77af52e"
      },
      "source": [
        "# print real numbers in while loop\n",
        "i=0\n",
        "while i<11:\n",
        "  i=i+1\n",
        "  print(i,\"\",end=\"\")"
      ],
      "execution_count": null,
      "outputs": [
        {
          "output_type": "stream",
          "text": [
            "1 2 3 4 5 6 7 8 9 10 11 "
          ],
          "name": "stdout"
        }
      ]
    },
    {
      "cell_type": "code",
      "metadata": {
        "colab": {
          "base_uri": "https://localhost:8080/"
        },
        "id": "7iaUZEOMAy7h",
        "outputId": "afa6b2f8-f2dd-41df-8cc6-ba148610e4b0"
      },
      "source": [
        "# multiplication table in while loop\n",
        "i=1\n",
        "while i<11:\n",
        "  mul=i*2\n",
        "  i=i+1\n",
        "  print(f\"2 X {i} =\",a)"
      ],
      "execution_count": null,
      "outputs": [
        {
          "output_type": "stream",
          "text": [
            "2 X 2 = 0\n",
            "2 X 3 = 0\n",
            "2 X 4 = 0\n",
            "2 X 5 = 0\n",
            "2 X 6 = 0\n",
            "2 X 7 = 0\n",
            "2 X 8 = 0\n",
            "2 X 9 = 0\n",
            "2 X 10 = 0\n",
            "2 X 11 = 0\n"
          ],
          "name": "stdout"
        }
      ]
    }
  ]
}