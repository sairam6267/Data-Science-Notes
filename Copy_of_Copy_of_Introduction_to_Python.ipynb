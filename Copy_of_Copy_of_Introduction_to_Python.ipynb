{
  "nbformat": 4,
  "nbformat_minor": 0,
  "metadata": {
    "colab": {
      "name": "Copy of Copy of Introduction to Python",
      "provenance": [],
      "collapsed_sections": [],
      "authorship_tag": "ABX9TyO2jgyDA0rtP4tETZyj5c4E",
      "include_colab_link": true
    },
    "kernelspec": {
      "name": "python3",
      "display_name": "Python 3"
    },
    "language_info": {
      "name": "python"
    }
  },
  "cells": [
    {
      "cell_type": "markdown",
      "metadata": {
        "id": "view-in-github",
        "colab_type": "text"
      },
      "source": [
        "<a href=\"https://colab.research.google.com/github/sairam6267/Data-Science-Notes/blob/main/Copy_of_Copy_of_Introduction_to_Python.ipynb\" target=\"_parent\"><img src=\"https://colab.research.google.com/assets/colab-badge.svg\" alt=\"Open In Colab\"/></a>"
      ]
    },
    {
      "cell_type": "markdown",
      "metadata": {
        "id": "4wtu4lIsGMwc"
      },
      "source": [
        "## INTRODUCTION TO PYTHON"
      ]
    },
    {
      "cell_type": "markdown",
      "metadata": {
        "id": "otIxaOfQGXob"
      },
      "source": [
        "* **What is programming?**\n",
        "* **Types of Programming Languages**\n",
        "* **What is Python?**\n",
        "* **Features of Python**\n",
        "* **Applications of Python programming**\n"
      ]
    },
    {
      "cell_type": "markdown",
      "metadata": {
        "id": "eAVqQ9WMHLhA"
      },
      "source": [
        "### Whats is programming?\n",
        "1. Programming is set of instruction given to machine to perform the task.\n",
        "2. Machine function is to receive and read the instructions from user input to perform the task for output"
      ]
    },
    {
      "cell_type": "markdown",
      "metadata": {
        "id": "bWiiOMSWHath"
      },
      "source": [
        "\n",
        "### Types of Programming languages:\n",
        " * Low level language\n",
        " * High level language\n"
      ]
    },
    {
      "cell_type": "markdown",
      "metadata": {
        "id": "NEID8lfZJ4Mc"
      },
      "source": [
        "__Low level language__\n",
        "* It is machine language which human cannot be understand easily.\n",
        "* It is coded in binary digits 0 and 1.\n",
        "* Its memory is high efficient.\n",
        "* It is not portable.\n",
        "* Much faster than High level language"
      ]
    },
    {
      "cell_type": "markdown",
      "metadata": {
        "id": "sJxZz0pHLHzA"
      },
      "source": [
        "**Example**\n"
      ]
    },
    {
      "cell_type": "code",
      "metadata": {
        "colab": {
          "base_uri": "https://localhost:8080/"
        },
        "id": "8mo-O8mEtgxr",
        "outputId": "dab02bc8-ef68-4b5a-d2cc-6d1efb2abe33"
      },
      "source": [
        "print(bin(25))"
      ],
      "execution_count": null,
      "outputs": [
        {
          "output_type": "stream",
          "text": [
            "0b11001\n"
          ],
          "name": "stdout"
        }
      ]
    },
    {
      "cell_type": "code",
      "metadata": {
        "id": "qx0aF214Jpmb",
        "colab": {
          "base_uri": "https://localhost:8080/",
          "height": 35
        },
        "outputId": "aa5c667a-1e02-4000-975c-3fd7c39e2ea6"
      },
      "source": [
        "string=\"Hello python\"\n",
        "' '.join(format(x, 'b') for x in bytearray(string, 'utf-8'))"
      ],
      "execution_count": null,
      "outputs": [
        {
          "output_type": "execute_result",
          "data": {
            "application/vnd.google.colaboratory.intrinsic+json": {
              "type": "string"
            },
            "text/plain": [
              "'1001000 1100101 1101100 1101100 1101111 100000 1110000 1111001 1110100 1101000 1101111 1101110'"
            ]
          },
          "metadata": {
            "tags": []
          },
          "execution_count": 1
        }
      ]
    },
    {
      "cell_type": "markdown",
      "metadata": {
        "id": "lG_FpmKetVSd"
      },
      "source": [
        "__High Level Language__"
      ]
    },
    {
      "cell_type": "markdown",
      "metadata": {
        "id": "iWVOSlils50M"
      },
      "source": [
        "* It is Human level language\n",
        "* it is coded in different languages\n",
        "* its memory is low in efficient \n",
        "* it is portable\n",
        "* its not so faster."
      ]
    },
    {
      "cell_type": "markdown",
      "metadata": {
        "id": "YeqpKUO5uKZB"
      },
      "source": [
        ""
      ]
    },
    {
      "cell_type": "markdown",
      "metadata": {
        "id": "vmk3QErYklnJ"
      },
      "source": [
        "__Example__\n",
        "* c,c++,python,Java,ruby etc.,"
      ]
    },
    {
      "cell_type": "code",
      "metadata": {
        "colab": {
          "base_uri": "https://localhost:8080/"
        },
        "id": "0vx3uO3MuLB_",
        "outputId": "76a7de3b-5a5d-40b4-f1e7-086ec68e054f"
      },
      "source": [
        "print(\"Hello\")"
      ],
      "execution_count": null,
      "outputs": [
        {
          "output_type": "stream",
          "text": [
            "Hello\n"
          ],
          "name": "stdout"
        }
      ]
    },
    {
      "cell_type": "markdown",
      "metadata": {
        "id": "oZ7UvfLZyim1"
      },
      "source": [
        "### __Compiler__\n",
        "\n",
        "![\"compiler\"](https://i1.wp.com/mjginfologs.com/wp-content/uploads/2020/09/compiler.jpg?fit=600%2C237&ssl=1)\n",
        "\n",
        "* Compiler is translator which converts souce code to machine code.\n",
        "\n",
        "\n",
        "```\n",
        "#include <stdio.h>\n",
        "int main() {\n",
        "    printf(\"Hello world\");\n",
        "    return 0;\n",
        "}\n",
        "\n",
        "```\n",
        "* It gives the  list of errors at once to debug\n",
        "\n",
        "\n",
        "```\n",
        "gcc /tmp/9vQEwHvx5o.c -lm\n",
        "/tmp/9vQEwHvx5o.c:3:10: error: expected '=', ',', ';', 'asm' or '__attribute__' before '{' token\n",
        "    3 | int main {\n",
        "      |          ^\n",
        "/tmp/9vQEwHvx5o.c:4:23: warning: missing terminating \" character\n",
        "    4 |     printf(Hello world\");\n",
        "      |                       ^\n",
        "/tmp/9vQEwHvx5o.c:4:23: error: missing terminating \" character\n",
        "    4 |     printf(Hello world\");\n",
        "      |                       ^~~\n",
        "\n",
        "```\n",
        "* Execution of code is very faster.\n",
        "\n",
        "\n",
        "\n"
      ]
    },
    {
      "cell_type": "markdown",
      "metadata": {
        "id": "3ltKRxFQx5NR"
      },
      "source": [
        "### __Interpreter__\n",
        "\n",
        "![\"xompiler\"](https://media.geeksforgeeks.org/wp-content/uploads/20200725112109/interpreter.png)\n",
        "* Interpreter is also a translator which converts the source code to machine language.\n",
        "\n",
        "\n",
        "\n",
        "```\n",
        "for i in range(0,10):\n",
        "  print(i)\n",
        "```\n",
        "* it doesnt give the errors line by line due to interpretation.\n",
        "\n",
        "\n",
        "\n",
        "```\n",
        "NameError                                 Traceback (most recent call last)\n",
        "<ipython-input-7-a73c0215ed98> in <module>()\n",
        "----> 1 prin('Hello')\n",
        "\n",
        "NameError: name 'prin' is not defined\n",
        "```\n",
        "\n",
        "* Execution of code is slower.\n",
        "\n",
        "\n",
        "\n"
      ]
    },
    {
      "cell_type": "markdown",
      "metadata": {
        "id": "dke5KN7C-QEI"
      },
      "source": [
        ""
      ]
    },
    {
      "cell_type": "markdown",
      "metadata": {
        "id": "7tOswbCCllNl"
      },
      "source": [
        "### What is Python?"
      ]
    },
    {
      "cell_type": "markdown",
      "metadata": {
        "id": "r1N-TmN8u0dL"
      },
      "source": [
        "\n",
        "* Pyhton is an interpreted and high level programming language is created  in 1989 by Guido Van Rossum\n",
        "* It generally scripting language.\n",
        "* It is flexible to use compare to other languages\n",
        "* It has less syntax\n",
        "* Easy to Debug\n"
      ]
    },
    {
      "cell_type": "markdown",
      "metadata": {
        "id": "MRgQ9ueQ2735"
      },
      "source": [
        "__Example__"
      ]
    },
    {
      "cell_type": "code",
      "metadata": {
        "id": "aL3TOodAHKy3",
        "colab": {
          "base_uri": "https://localhost:8080/"
        },
        "outputId": "e416b74a-c4aa-4ebd-af37-f1cce3d5d8a3"
      },
      "source": [
        "print('Hello')"
      ],
      "execution_count": null,
      "outputs": [
        {
          "output_type": "stream",
          "text": [
            "Hello\n"
          ],
          "name": "stdout"
        }
      ]
    },
    {
      "cell_type": "markdown",
      "metadata": {
        "id": "sglCl4i-w3Zb"
      },
      "source": [
        ""
      ]
    },
    {
      "cell_type": "markdown",
      "metadata": {
        "id": "F-xzsYJx5LE1"
      },
      "source": [
        "### Features of Python language "
      ]
    },
    {
      "cell_type": "markdown",
      "metadata": {
        "id": "RB59XfrZ8-0u"
      },
      "source": [
        "![features](data:image/png;base64,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)\n"
      ]
    },
    {
      "cell_type": "markdown",
      "metadata": {
        "id": "FL-vuCOd_Kgj"
      },
      "source": [
        "* __Easy to learn__: Python language is expressive, high level language which human can understand and easy to script\n",
        "* __Readable__ : Python is a readable language.\n",
        "* __Free__: It is available for free of cost.\n",
        "* __Open source__ : Its free open source public software and download from any kind of search engine.\n",
        "* __Exception Handling__: When an errors occurs in the scripted program its easy to debug and handle the error.\n",
        "* __Standard Libraries__: Python comprises of huge libraries around 1000+ . Libraries are prewritten codes which are resuable chunks for execution.\n",
        "* __Cross platfrom__: The python software can be used on many platforms like WIndows,Mac,Linux,Ubuntu etc.,"
      ]
    },
    {
      "cell_type": "markdown",
      "metadata": {
        "id": "loxw44b6DnyV"
      },
      "source": [
        "### Applications of Python Programming\n",
        "* Web development.\n",
        "* Game development.\n",
        "* Built CAD applications.\n",
        "* Machine Learning.\n",
        "* Artificial intelligence.\n",
        "* Data science."
      ]
    }
  ]
}